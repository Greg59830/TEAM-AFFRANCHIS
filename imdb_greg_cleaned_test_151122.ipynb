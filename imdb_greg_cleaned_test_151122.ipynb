{
  "nbformat": 4,
  "nbformat_minor": 0,
  "metadata": {
    "colab": {
      "provenance": []
    },
    "kernelspec": {
      "name": "python3",
      "display_name": "Python 3"
    },
    "language_info": {
      "name": "python"
    }
  },
  "cells": [
    {
      "cell_type": "code",
      "source": [
        "import pandas as pd\n",
        "from google.colab import drive\n",
        "import requests\n",
        "drive.mount('/content/drive')"
      ],
      "metadata": {
        "colab": {
          "base_uri": "https://localhost:8080/"
        },
        "id": "zYKkj42FsvMy",
        "outputId": "26ad5327-d3ed-4226-bad6-bfa68d3a8939"
      },
      "execution_count": null,
      "outputs": [
        {
          "output_type": "stream",
          "name": "stdout",
          "text": [
            "Drive already mounted at /content/drive; to attempt to forcibly remount, call drive.mount(\"/content/drive\", force_remount=True).\n"
          ]
        }
      ]
    },
    {
      "cell_type": "code",
      "source": [
        "df= pd.read_csv(\"/content/drive/MyDrive/2209-Data/Projets/Projet2/Affranchis/CSV/Projet_2_Cinema_Final2.csv\", sep = \",\")"
      ],
      "metadata": {
        "id": "qL85cBKIx2ZO"
      },
      "execution_count": null,
      "outputs": []
    },
    {
      "cell_type": "markdown",
      "source": [
        "SUPPRESSION COLONNES INUTILES\n"
      ],
      "metadata": {
        "id": "SxYX_RnN4CO1"
      }
    },
    {
      "cell_type": "code",
      "source": [
        "print(df.head().to_markdown(disable_numparse=True))"
      ],
      "metadata": {
        "colab": {
          "base_uri": "https://localhost:8080/"
        },
        "id": "-dm1eVv4y611",
        "outputId": "ee58943c-dc57-4e20-948d-740cd5e16054"
      },
      "execution_count": null,
      "outputs": [
        {
          "output_type": "stream",
          "name": "stdout",
          "text": [
            "|    | Title                      | Year   | Rated     | Released    | Runtime   | Genre                      | Director             | Writer                           | Actors                                      | Plot                                                                                                                                          | Language                  | Country        | Awards                                                 | Poster                                                                                                                             | Metascore   | imdbRating   | imdbVotes   | imdbID    | Type   | DVD         | BoxOffice   | Production   | Website   | Response   | Internet Movie Database   | Rotten Tomatoes   | Metacritic   | Season   | Episode   | seriesID   | totalSeasons   | iso_639_1   | iso_3166_1   | name                                                  | key         | site    | size   | type    | official   | published_at             | id                       | tconst    |\n",
            "|:---|:---------------------------|:-------|:----------|:------------|:----------|:---------------------------|:---------------------|:---------------------------------|:--------------------------------------------|:----------------------------------------------------------------------------------------------------------------------------------------------|:--------------------------|:---------------|:-------------------------------------------------------|:-----------------------------------------------------------------------------------------------------------------------------------|:------------|:-------------|:------------|:----------|:-------|:------------|:------------|:-------------|:----------|:-----------|:--------------------------|:------------------|:-------------|:---------|:----------|:-----------|:---------------|:------------|:-------------|:------------------------------------------------------|:------------|:--------|:-------|:--------|:-----------|:-------------------------|:-------------------------|:----------|\n",
            "| 0  | Pharaoh's Curse            | 1957.0 | Approved  | 01 Feb 1957 | 2 min     | Horror                     | Lee Sholem           | Richard H. Landau                | Mark Dana, Ziva Rodann, Diane Brewster      | A crazed Egyptian follows the members of an archaeology expedition and kills them off one by one while getting progressively older.           | English                   | United States  | nan                                                    | https://m.media-amazon.com/images/M/MV5BZDk4N2QwMDYtZGE0My00NTI0LWEyZTUtYTE2ZmNiMmVlMmEwXkEyXkFqcGdeQXVyMTQ2MjQyNDc@._V1_SX300.jpg | nan         | 4.7          | 635         | tt0049616 | movie  | 01 Sep 2016 | nan         | nan          | nan       | True       | 4.7/10                    | nan               | nan          | nan      | nan       | nan        | nan            | nan         | nan          | nan                                                   | nan         | nan     | nan    | nan     | nan        | nan                      | nan                      | nan       |\n",
            "| 1  | Carry on Follow That Camel | 1967.0 | Not Rated | 07 Jan 1968 | 95 min    | Adventure, Comedy, Romance | Gerald Thomas        | Talbot Rothwell                  | Phil Silvers, Kenneth Williams, Jim Dale    | A bogus legionnaire proves his mettle during an Arab attack.                                                                                  | English                   | United Kingdom | nan                                                    | https://m.media-amazon.com/images/M/MV5BNDU0NmIzYTctN2NiOS00NzQ1LWIwNjItYjQ1N2VhNGJmNjQzXkEyXkFqcGdeQXVyMDY4MzkyNw@@._V1_SX300.jpg | nan         | 6.0          | 2,460       | tt0061680 | movie  | 06 Aug 2018 | nan         | nan          | nan       | True       | 6.0/10                    | nan               | nan          | nan      | nan       | nan        | nan            | en          | US           | Carry On Follow That Camel - UK Trailer               | 8uqJcfY3epA | YouTube | 360.0  | Trailer | False      | 2008-09-07T16:08:52.000Z | 533ec685c3a3685448003675 | tt0061680 |\n",
            "| 2  | Married to the Mob         | 1988.0 | R         | 19 Aug 1988 | 104 min   | Comedy, Crime, Romance     | Jonathan Demme       | Barry Strugatz, Mark R. Burns    | Michelle Pfeiffer, Alec Baldwin, Paul Lazar | A mobster's wife hates her lifestyle, but gets a chance to change it when her husband is killed - if the Long Island mob and the FBI let her. | English                   | United States  | Nominated for 1 Oscar. 6 wins & 5 nominations total    | https://m.media-amazon.com/images/M/MV5BYzY3ZWJmZjctY2U1Ni00NmRjLWI5YjQtMzk2ZTlhYjU0N2FhXkEyXkFqcGdeQXVyMTY5Nzc4MDY@._V1_SX300.jpg | 71.0        | 6.2          | 18,134      | tt0095593 | movie  | 13 Jun 2000 | $21,486,757 | nan          | nan       | True       | 6.2/10                    | 90%               | 71/100       | nan      | nan       | nan        | nan            | en          | US           | Married to the Mob (1988) ORIGINAL TRAILER [HD 1080p] | bXUqBEsHwMY | YouTube | 1080.0 | Trailer | False      | 2018-04-12T20:17:58.000Z | 62e97afe1ad93b006154a584 | tt0095593 |\n",
            "| 3  | The Conversation           | 1974.0 | PG        | 12 Apr 1974 | 113 min   | Drama, Mystery, Thriller   | Francis Ford Coppola | Francis Ford Coppola             | Gene Hackman, John Cazale, Allen Garfield   | A paranoid, secretive surveillance expert has a crisis of conscience when he suspects that the couple he is spying on will be murdered.       | English                   | United States  | Nominated for 3 Oscars. 14 wins & 16 nominations total | https://m.media-amazon.com/images/M/MV5BNzAwZWRhZTEtOWYwMi00YzQ5LWE1MzQtM2JlZWE0Y2E4ZDg3XkEyXkFqcGdeQXVyMjUzOTY1NTc@._V1_SX300.jpg | 87.0        | 7.8          | 112,312     | tt0071360 | movie  | 17 Aug 2010 | $4,671,805  | nan          | nan       | True       | 7.8/10                    | 97%               | 87/100       | nan      | nan       | nan        | nan            | en          | US           | The Conversation (1974) ORIGINAL TRAILER [HD 1080p]   | elJL5D6HTvA | YouTube | 1080.0 | Trailer | False      | 2018-08-08T20:21:39.000Z | 62e9466925cd85005dfff216 | tt0071360 |\n",
            "| 4  | The Wrong Man              | 1956.0 | Not Rated | 26 Jan 1957 | 105 min   | Drama, Film-Noir           | Alfred Hitchcock     | Maxwell Anderson, Angus MacPhail | Henry Fonda, Vera Miles, Anthony Quayle     | In 1953, an innocent man named Christopher Emanuel \"Manny\" Balestrero is arrested after being mistaken for an armed robber.                   | English, Italian, Spanish | United States  | 1 win & 1 nomination                                   | https://m.media-amazon.com/images/M/MV5BOWFhOTM1NDItZTMyYi00MGZiLWFjYTktOWI3YTgzNGRjY2I3XkEyXkFqcGdeQXVyNjc1NTYyMjg@._V1_SX300.jpg | 83.0        | 7.4          | 28,908      | tt0051207 | movie  | 19 Sep 2006 | nan         | nan          | nan       | True       | 7.4/10                    | 93%               | 83/100       | nan      | nan       | nan        | nan            | en          | US           | The Wrong Man (1956) ORIGINAL TRAILER [HD 1080p]      | 9RKEUzQe30M | YouTube | 1080.0 | Trailer | False      | 2020-06-27T22:00:03.000Z | 61f05d84c5ada500fac4917a | tt0051207 |\n"
          ]
        }
      ]
    },
    {
      "cell_type": "code",
      "source": [
        "df=df.drop(['DVD'],axis=1)"
      ],
      "metadata": {
        "id": "HKwP7phx1Mwj"
      },
      "execution_count": null,
      "outputs": []
    },
    {
      "cell_type": "code",
      "source": [
        "print(df.head().to_markdown(disable_numparse=True))"
      ],
      "metadata": {
        "colab": {
          "base_uri": "https://localhost:8080/"
        },
        "id": "X2lBin7H1l5G",
        "outputId": "dd7cf1d9-40a4-4079-ff8b-85610c4d79d1"
      },
      "execution_count": null,
      "outputs": [
        {
          "output_type": "stream",
          "name": "stdout",
          "text": [
            "|    | Title                      | Year   | Rated     | Released    | Runtime   | Genre                      | Director             | Writer                           | Actors                                      | Plot                                                                                                                                          | Language                  | Country        | Awards                                                 | Poster                                                                                                                             | Metascore   | imdbRating   | imdbVotes   | imdbID    | Type   | BoxOffice   | Production   | Website   | Response   | Internet Movie Database   | Rotten Tomatoes   | Metacritic   | Season   | Episode   | seriesID   | totalSeasons   | iso_639_1   | iso_3166_1   | name                                                  | key         | site    | size   | type    | official   | published_at             | id                       | tconst    |\n",
            "|:---|:---------------------------|:-------|:----------|:------------|:----------|:---------------------------|:---------------------|:---------------------------------|:--------------------------------------------|:----------------------------------------------------------------------------------------------------------------------------------------------|:--------------------------|:---------------|:-------------------------------------------------------|:-----------------------------------------------------------------------------------------------------------------------------------|:------------|:-------------|:------------|:----------|:-------|:------------|:-------------|:----------|:-----------|:--------------------------|:------------------|:-------------|:---------|:----------|:-----------|:---------------|:------------|:-------------|:------------------------------------------------------|:------------|:--------|:-------|:--------|:-----------|:-------------------------|:-------------------------|:----------|\n",
            "| 0  | Pharaoh's Curse            | 1957.0 | Approved  | 01 Feb 1957 | 2 min     | Horror                     | Lee Sholem           | Richard H. Landau                | Mark Dana, Ziva Rodann, Diane Brewster      | A crazed Egyptian follows the members of an archaeology expedition and kills them off one by one while getting progressively older.           | English                   | United States  | nan                                                    | https://m.media-amazon.com/images/M/MV5BZDk4N2QwMDYtZGE0My00NTI0LWEyZTUtYTE2ZmNiMmVlMmEwXkEyXkFqcGdeQXVyMTQ2MjQyNDc@._V1_SX300.jpg | nan         | 4.7          | 635         | tt0049616 | movie  | nan         | nan          | nan       | True       | 4.7/10                    | nan               | nan          | nan      | nan       | nan        | nan            | nan         | nan          | nan                                                   | nan         | nan     | nan    | nan     | nan        | nan                      | nan                      | nan       |\n",
            "| 1  | Carry on Follow That Camel | 1967.0 | Not Rated | 07 Jan 1968 | 95 min    | Adventure, Comedy, Romance | Gerald Thomas        | Talbot Rothwell                  | Phil Silvers, Kenneth Williams, Jim Dale    | A bogus legionnaire proves his mettle during an Arab attack.                                                                                  | English                   | United Kingdom | nan                                                    | https://m.media-amazon.com/images/M/MV5BNDU0NmIzYTctN2NiOS00NzQ1LWIwNjItYjQ1N2VhNGJmNjQzXkEyXkFqcGdeQXVyMDY4MzkyNw@@._V1_SX300.jpg | nan         | 6.0          | 2,460       | tt0061680 | movie  | nan         | nan          | nan       | True       | 6.0/10                    | nan               | nan          | nan      | nan       | nan        | nan            | en          | US           | Carry On Follow That Camel - UK Trailer               | 8uqJcfY3epA | YouTube | 360.0  | Trailer | False      | 2008-09-07T16:08:52.000Z | 533ec685c3a3685448003675 | tt0061680 |\n",
            "| 2  | Married to the Mob         | 1988.0 | R         | 19 Aug 1988 | 104 min   | Comedy, Crime, Romance     | Jonathan Demme       | Barry Strugatz, Mark R. Burns    | Michelle Pfeiffer, Alec Baldwin, Paul Lazar | A mobster's wife hates her lifestyle, but gets a chance to change it when her husband is killed - if the Long Island mob and the FBI let her. | English                   | United States  | Nominated for 1 Oscar. 6 wins & 5 nominations total    | https://m.media-amazon.com/images/M/MV5BYzY3ZWJmZjctY2U1Ni00NmRjLWI5YjQtMzk2ZTlhYjU0N2FhXkEyXkFqcGdeQXVyMTY5Nzc4MDY@._V1_SX300.jpg | 71.0        | 6.2          | 18,134      | tt0095593 | movie  | $21,486,757 | nan          | nan       | True       | 6.2/10                    | 90%               | 71/100       | nan      | nan       | nan        | nan            | en          | US           | Married to the Mob (1988) ORIGINAL TRAILER [HD 1080p] | bXUqBEsHwMY | YouTube | 1080.0 | Trailer | False      | 2018-04-12T20:17:58.000Z | 62e97afe1ad93b006154a584 | tt0095593 |\n",
            "| 3  | The Conversation           | 1974.0 | PG        | 12 Apr 1974 | 113 min   | Drama, Mystery, Thriller   | Francis Ford Coppola | Francis Ford Coppola             | Gene Hackman, John Cazale, Allen Garfield   | A paranoid, secretive surveillance expert has a crisis of conscience when he suspects that the couple he is spying on will be murdered.       | English                   | United States  | Nominated for 3 Oscars. 14 wins & 16 nominations total | https://m.media-amazon.com/images/M/MV5BNzAwZWRhZTEtOWYwMi00YzQ5LWE1MzQtM2JlZWE0Y2E4ZDg3XkEyXkFqcGdeQXVyMjUzOTY1NTc@._V1_SX300.jpg | 87.0        | 7.8          | 112,312     | tt0071360 | movie  | $4,671,805  | nan          | nan       | True       | 7.8/10                    | 97%               | 87/100       | nan      | nan       | nan        | nan            | en          | US           | The Conversation (1974) ORIGINAL TRAILER [HD 1080p]   | elJL5D6HTvA | YouTube | 1080.0 | Trailer | False      | 2018-08-08T20:21:39.000Z | 62e9466925cd85005dfff216 | tt0071360 |\n",
            "| 4  | The Wrong Man              | 1956.0 | Not Rated | 26 Jan 1957 | 105 min   | Drama, Film-Noir           | Alfred Hitchcock     | Maxwell Anderson, Angus MacPhail | Henry Fonda, Vera Miles, Anthony Quayle     | In 1953, an innocent man named Christopher Emanuel \"Manny\" Balestrero is arrested after being mistaken for an armed robber.                   | English, Italian, Spanish | United States  | 1 win & 1 nomination                                   | https://m.media-amazon.com/images/M/MV5BOWFhOTM1NDItZTMyYi00MGZiLWFjYTktOWI3YTgzNGRjY2I3XkEyXkFqcGdeQXVyNjc1NTYyMjg@._V1_SX300.jpg | 83.0        | 7.4          | 28,908      | tt0051207 | movie  | nan         | nan          | nan       | True       | 7.4/10                    | 93%               | 83/100       | nan      | nan       | nan        | nan            | en          | US           | The Wrong Man (1956) ORIGINAL TRAILER [HD 1080p]      | 9RKEUzQe30M | YouTube | 1080.0 | Trailer | False      | 2020-06-27T22:00:03.000Z | 61f05d84c5ada500fac4917a | tt0051207 |\n"
          ]
        }
      ]
    },
    {
      "cell_type": "code",
      "source": [
        "df=df.drop(columns=['Season','Episode','seriesID','totalSeasons','iso_639_1','official'])"
      ],
      "metadata": {
        "id": "LYGZVyel13eV"
      },
      "execution_count": null,
      "outputs": []
    },
    {
      "cell_type": "code",
      "source": [
        "print(df.head().to_markdown(disable_numparse=True))"
      ],
      "metadata": {
        "colab": {
          "base_uri": "https://localhost:8080/"
        },
        "id": "NPMg-w7H3Qds",
        "outputId": "b495e458-49d1-4550-fcb6-7242a8166e7b"
      },
      "execution_count": null,
      "outputs": [
        {
          "output_type": "stream",
          "name": "stdout",
          "text": [
            "|    | Title                      | Year   | Rated     | Released    | Runtime   | Genre                      | Director             | Writer                           | Actors                                      | Plot                                                                                                                                          | Language                  | Country        | Awards                                                 | Poster                                                                                                                             | Metascore   | imdbRating   | imdbVotes   | imdbID    | Type   | BoxOffice   | Production   | Website   | Response   | Internet Movie Database   | Rotten Tomatoes   | Metacritic   | iso_3166_1   | name                                                  | key         | site    | size   | type    | published_at             | id                       | tconst    |\n",
            "|:---|:---------------------------|:-------|:----------|:------------|:----------|:---------------------------|:---------------------|:---------------------------------|:--------------------------------------------|:----------------------------------------------------------------------------------------------------------------------------------------------|:--------------------------|:---------------|:-------------------------------------------------------|:-----------------------------------------------------------------------------------------------------------------------------------|:------------|:-------------|:------------|:----------|:-------|:------------|:-------------|:----------|:-----------|:--------------------------|:------------------|:-------------|:-------------|:------------------------------------------------------|:------------|:--------|:-------|:--------|:-------------------------|:-------------------------|:----------|\n",
            "| 0  | Pharaoh's Curse            | 1957.0 | Approved  | 01 Feb 1957 | 2 min     | Horror                     | Lee Sholem           | Richard H. Landau                | Mark Dana, Ziva Rodann, Diane Brewster      | A crazed Egyptian follows the members of an archaeology expedition and kills them off one by one while getting progressively older.           | English                   | United States  | nan                                                    | https://m.media-amazon.com/images/M/MV5BZDk4N2QwMDYtZGE0My00NTI0LWEyZTUtYTE2ZmNiMmVlMmEwXkEyXkFqcGdeQXVyMTQ2MjQyNDc@._V1_SX300.jpg | nan         | 4.7          | 635         | tt0049616 | movie  | nan         | nan          | nan       | True       | 4.7/10                    | nan               | nan          | nan          | nan                                                   | nan         | nan     | nan    | nan     | nan                      | nan                      | nan       |\n",
            "| 1  | Carry on Follow That Camel | 1967.0 | Not Rated | 07 Jan 1968 | 95 min    | Adventure, Comedy, Romance | Gerald Thomas        | Talbot Rothwell                  | Phil Silvers, Kenneth Williams, Jim Dale    | A bogus legionnaire proves his mettle during an Arab attack.                                                                                  | English                   | United Kingdom | nan                                                    | https://m.media-amazon.com/images/M/MV5BNDU0NmIzYTctN2NiOS00NzQ1LWIwNjItYjQ1N2VhNGJmNjQzXkEyXkFqcGdeQXVyMDY4MzkyNw@@._V1_SX300.jpg | nan         | 6.0          | 2,460       | tt0061680 | movie  | nan         | nan          | nan       | True       | 6.0/10                    | nan               | nan          | US           | Carry On Follow That Camel - UK Trailer               | 8uqJcfY3epA | YouTube | 360.0  | Trailer | 2008-09-07T16:08:52.000Z | 533ec685c3a3685448003675 | tt0061680 |\n",
            "| 2  | Married to the Mob         | 1988.0 | R         | 19 Aug 1988 | 104 min   | Comedy, Crime, Romance     | Jonathan Demme       | Barry Strugatz, Mark R. Burns    | Michelle Pfeiffer, Alec Baldwin, Paul Lazar | A mobster's wife hates her lifestyle, but gets a chance to change it when her husband is killed - if the Long Island mob and the FBI let her. | English                   | United States  | Nominated for 1 Oscar. 6 wins & 5 nominations total    | https://m.media-amazon.com/images/M/MV5BYzY3ZWJmZjctY2U1Ni00NmRjLWI5YjQtMzk2ZTlhYjU0N2FhXkEyXkFqcGdeQXVyMTY5Nzc4MDY@._V1_SX300.jpg | 71.0        | 6.2          | 18,134      | tt0095593 | movie  | $21,486,757 | nan          | nan       | True       | 6.2/10                    | 90%               | 71/100       | US           | Married to the Mob (1988) ORIGINAL TRAILER [HD 1080p] | bXUqBEsHwMY | YouTube | 1080.0 | Trailer | 2018-04-12T20:17:58.000Z | 62e97afe1ad93b006154a584 | tt0095593 |\n",
            "| 3  | The Conversation           | 1974.0 | PG        | 12 Apr 1974 | 113 min   | Drama, Mystery, Thriller   | Francis Ford Coppola | Francis Ford Coppola             | Gene Hackman, John Cazale, Allen Garfield   | A paranoid, secretive surveillance expert has a crisis of conscience when he suspects that the couple he is spying on will be murdered.       | English                   | United States  | Nominated for 3 Oscars. 14 wins & 16 nominations total | https://m.media-amazon.com/images/M/MV5BNzAwZWRhZTEtOWYwMi00YzQ5LWE1MzQtM2JlZWE0Y2E4ZDg3XkEyXkFqcGdeQXVyMjUzOTY1NTc@._V1_SX300.jpg | 87.0        | 7.8          | 112,312     | tt0071360 | movie  | $4,671,805  | nan          | nan       | True       | 7.8/10                    | 97%               | 87/100       | US           | The Conversation (1974) ORIGINAL TRAILER [HD 1080p]   | elJL5D6HTvA | YouTube | 1080.0 | Trailer | 2018-08-08T20:21:39.000Z | 62e9466925cd85005dfff216 | tt0071360 |\n",
            "| 4  | The Wrong Man              | 1956.0 | Not Rated | 26 Jan 1957 | 105 min   | Drama, Film-Noir           | Alfred Hitchcock     | Maxwell Anderson, Angus MacPhail | Henry Fonda, Vera Miles, Anthony Quayle     | In 1953, an innocent man named Christopher Emanuel \"Manny\" Balestrero is arrested after being mistaken for an armed robber.                   | English, Italian, Spanish | United States  | 1 win & 1 nomination                                   | https://m.media-amazon.com/images/M/MV5BOWFhOTM1NDItZTMyYi00MGZiLWFjYTktOWI3YTgzNGRjY2I3XkEyXkFqcGdeQXVyNjc1NTYyMjg@._V1_SX300.jpg | 83.0        | 7.4          | 28,908      | tt0051207 | movie  | nan         | nan          | nan       | True       | 7.4/10                    | 93%               | 83/100       | US           | The Wrong Man (1956) ORIGINAL TRAILER [HD 1080p]      | 9RKEUzQe30M | YouTube | 1080.0 | Trailer | 2020-06-27T22:00:03.000Z | 61f05d84c5ada500fac4917a | tt0051207 |\n"
          ]
        }
      ]
    },
    {
      "cell_type": "code",
      "source": [
        "df=df.drop(columns=['iso_3166_1'])"
      ],
      "metadata": {
        "id": "L3ZE8aY73eJc"
      },
      "execution_count": null,
      "outputs": []
    },
    {
      "cell_type": "code",
      "source": [
        "print(df.head().to_markdown())"
      ],
      "metadata": {
        "colab": {
          "base_uri": "https://localhost:8080/"
        },
        "id": "zHV-8ujc3njK",
        "outputId": "37fb4919-9bd2-4204-94f8-9d2ef3575e71"
      },
      "execution_count": null,
      "outputs": [
        {
          "output_type": "stream",
          "name": "stdout",
          "text": [
            "|    | Title                      |   Year | Rated     | Released    | Runtime   | Genre                      | Director             | Writer                           | Actors                                      | Plot                                                                                                                                          | Language                  | Country        | Awards                                                 | Poster                                                                                                                             |   Metascore |   imdbRating | imdbVotes   | imdbID    | Type   | BoxOffice   |   Production |   Website | Response   | Internet Movie Database   | Rotten Tomatoes   | Metacritic   | name                                                  | key         | site    |   size | type    | published_at             | id                       | tconst    |\n",
            "|---:|:---------------------------|-------:|:----------|:------------|:----------|:---------------------------|:---------------------|:---------------------------------|:--------------------------------------------|:----------------------------------------------------------------------------------------------------------------------------------------------|:--------------------------|:---------------|:-------------------------------------------------------|:-----------------------------------------------------------------------------------------------------------------------------------|------------:|-------------:|:------------|:----------|:-------|:------------|-------------:|----------:|:-----------|:--------------------------|:------------------|:-------------|:------------------------------------------------------|:------------|:--------|-------:|:--------|:-------------------------|:-------------------------|:----------|\n",
            "|  0 | Pharaoh's Curse            |   1957 | Approved  | 01 Feb 1957 | 2 min     | Horror                     | Lee Sholem           | Richard H. Landau                | Mark Dana, Ziva Rodann, Diane Brewster      | A crazed Egyptian follows the members of an archaeology expedition and kills them off one by one while getting progressively older.           | English                   | United States  | nan                                                    | https://m.media-amazon.com/images/M/MV5BZDk4N2QwMDYtZGE0My00NTI0LWEyZTUtYTE2ZmNiMmVlMmEwXkEyXkFqcGdeQXVyMTQ2MjQyNDc@._V1_SX300.jpg |         nan |          4.7 | 635         | tt0049616 | movie  | nan         |          nan |       nan | True       | 4.7/10                    | nan               | nan          | nan                                                   | nan         | nan     |    nan | nan     | nan                      | nan                      | nan       |\n",
            "|  1 | Carry on Follow That Camel |   1967 | Not Rated | 07 Jan 1968 | 95 min    | Adventure, Comedy, Romance | Gerald Thomas        | Talbot Rothwell                  | Phil Silvers, Kenneth Williams, Jim Dale    | A bogus legionnaire proves his mettle during an Arab attack.                                                                                  | English                   | United Kingdom | nan                                                    | https://m.media-amazon.com/images/M/MV5BNDU0NmIzYTctN2NiOS00NzQ1LWIwNjItYjQ1N2VhNGJmNjQzXkEyXkFqcGdeQXVyMDY4MzkyNw@@._V1_SX300.jpg |         nan |          6   | 2,460       | tt0061680 | movie  | nan         |          nan |       nan | True       | 6.0/10                    | nan               | nan          | Carry On Follow That Camel - UK Trailer               | 8uqJcfY3epA | YouTube |    360 | Trailer | 2008-09-07T16:08:52.000Z | 533ec685c3a3685448003675 | tt0061680 |\n",
            "|  2 | Married to the Mob         |   1988 | R         | 19 Aug 1988 | 104 min   | Comedy, Crime, Romance     | Jonathan Demme       | Barry Strugatz, Mark R. Burns    | Michelle Pfeiffer, Alec Baldwin, Paul Lazar | A mobster's wife hates her lifestyle, but gets a chance to change it when her husband is killed - if the Long Island mob and the FBI let her. | English                   | United States  | Nominated for 1 Oscar. 6 wins & 5 nominations total    | https://m.media-amazon.com/images/M/MV5BYzY3ZWJmZjctY2U1Ni00NmRjLWI5YjQtMzk2ZTlhYjU0N2FhXkEyXkFqcGdeQXVyMTY5Nzc4MDY@._V1_SX300.jpg |          71 |          6.2 | 18,134      | tt0095593 | movie  | $21,486,757 |          nan |       nan | True       | 6.2/10                    | 90%               | 71/100       | Married to the Mob (1988) ORIGINAL TRAILER [HD 1080p] | bXUqBEsHwMY | YouTube |   1080 | Trailer | 2018-04-12T20:17:58.000Z | 62e97afe1ad93b006154a584 | tt0095593 |\n",
            "|  3 | The Conversation           |   1974 | PG        | 12 Apr 1974 | 113 min   | Drama, Mystery, Thriller   | Francis Ford Coppola | Francis Ford Coppola             | Gene Hackman, John Cazale, Allen Garfield   | A paranoid, secretive surveillance expert has a crisis of conscience when he suspects that the couple he is spying on will be murdered.       | English                   | United States  | Nominated for 3 Oscars. 14 wins & 16 nominations total | https://m.media-amazon.com/images/M/MV5BNzAwZWRhZTEtOWYwMi00YzQ5LWE1MzQtM2JlZWE0Y2E4ZDg3XkEyXkFqcGdeQXVyMjUzOTY1NTc@._V1_SX300.jpg |          87 |          7.8 | 112,312     | tt0071360 | movie  | $4,671,805  |          nan |       nan | True       | 7.8/10                    | 97%               | 87/100       | The Conversation (1974) ORIGINAL TRAILER [HD 1080p]   | elJL5D6HTvA | YouTube |   1080 | Trailer | 2018-08-08T20:21:39.000Z | 62e9466925cd85005dfff216 | tt0071360 |\n",
            "|  4 | The Wrong Man              |   1956 | Not Rated | 26 Jan 1957 | 105 min   | Drama, Film-Noir           | Alfred Hitchcock     | Maxwell Anderson, Angus MacPhail | Henry Fonda, Vera Miles, Anthony Quayle     | In 1953, an innocent man named Christopher Emanuel \"Manny\" Balestrero is arrested after being mistaken for an armed robber.                   | English, Italian, Spanish | United States  | 1 win & 1 nomination                                   | https://m.media-amazon.com/images/M/MV5BOWFhOTM1NDItZTMyYi00MGZiLWFjYTktOWI3YTgzNGRjY2I3XkEyXkFqcGdeQXVyNjc1NTYyMjg@._V1_SX300.jpg |          83 |          7.4 | 28,908      | tt0051207 | movie  | nan         |          nan |       nan | True       | 7.4/10                    | 93%               | 83/100       | The Wrong Man (1956) ORIGINAL TRAILER [HD 1080p]      | 9RKEUzQe30M | YouTube |   1080 | Trailer | 2020-06-27T22:00:03.000Z | 61f05d84c5ada500fac4917a | tt0051207 |\n"
          ]
        }
      ]
    },
    {
      "cell_type": "markdown",
      "source": [
        "CONVERSION NOTES AU MEME FORMAT"
      ],
      "metadata": {
        "id": "LOD6-cb94GeD"
      }
    },
    {
      "cell_type": "code",
      "source": [
        "print(df.dtypes)"
      ],
      "metadata": {
        "colab": {
          "base_uri": "https://localhost:8080/"
        },
        "id": "hhLg0Zcd390N",
        "outputId": "9e1c1875-cdab-42cf-f9d7-9013fb1c5554"
      },
      "execution_count": null,
      "outputs": [
        {
          "output_type": "stream",
          "name": "stdout",
          "text": [
            "Title                       object\n",
            "Year                        object\n",
            "Rated                       object\n",
            "Released                    object\n",
            "Runtime                     object\n",
            "Genre                       object\n",
            "Director                    object\n",
            "Writer                      object\n",
            "Actors                      object\n",
            "Plot                        object\n",
            "Language                    object\n",
            "Country                     object\n",
            "Awards                      object\n",
            "Poster                      object\n",
            "Metascore                  float64\n",
            "imdbRating                 float64\n",
            "imdbVotes                   object\n",
            "imdbID                      object\n",
            "Type                        object\n",
            "BoxOffice                   object\n",
            "Production                  object\n",
            "Website                    float64\n",
            "Response                      bool\n",
            "Internet Movie Database     object\n",
            "Rotten Tomatoes             object\n",
            "Metacritic                  object\n",
            "name                        object\n",
            "key                         object\n",
            "site                        object\n",
            "size                       float64\n",
            "type                        object\n",
            "published_at                object\n",
            "id                          object\n",
            "tconst                      object\n",
            "dtype: object\n"
          ]
        }
      ]
    },
    {
      "cell_type": "code",
      "source": [
        "#supprimer les % dans colonnes Rotten Tomatoes\n",
        "df['Rotten Tomatoes'] = df['Rotten Tomatoes'].str.replace('%', '')"
      ],
      "metadata": {
        "id": "MCCl-nNo7nKt"
      },
      "execution_count": null,
      "outputs": []
    },
    {
      "cell_type": "code",
      "source": [
        "print(df.head().to_markdown())"
      ],
      "metadata": {
        "colab": {
          "base_uri": "https://localhost:8080/"
        },
        "id": "-uH09J5Z79tp",
        "outputId": "c490e9e3-d51a-46a3-b0eb-958c0c918a63"
      },
      "execution_count": null,
      "outputs": [
        {
          "output_type": "stream",
          "name": "stdout",
          "text": [
            "|    | Title                      |   Year | Rated     | Released    | Runtime   | Genre                      | Director             | Writer                           | Actors                                      | Plot                                                                                                                                          | Language                  | Country        | Awards                                                 | Poster                                                                                                                             |   Metascore |   imdbRating | imdbVotes   | imdbID    | Type   | BoxOffice   |   Production |   Website | Response   | Internet Movie Database   |   Rotten Tomatoes | Metacritic   | name                                                  | key         | site    |   size | type    | published_at             | id                       | tconst    |\n",
            "|---:|:---------------------------|-------:|:----------|:------------|:----------|:---------------------------|:---------------------|:---------------------------------|:--------------------------------------------|:----------------------------------------------------------------------------------------------------------------------------------------------|:--------------------------|:---------------|:-------------------------------------------------------|:-----------------------------------------------------------------------------------------------------------------------------------|------------:|-------------:|:------------|:----------|:-------|:------------|-------------:|----------:|:-----------|:--------------------------|------------------:|:-------------|:------------------------------------------------------|:------------|:--------|-------:|:--------|:-------------------------|:-------------------------|:----------|\n",
            "|  0 | Pharaoh's Curse            |   1957 | Approved  | 01 Feb 1957 | 2 min     | Horror                     | Lee Sholem           | Richard H. Landau                | Mark Dana, Ziva Rodann, Diane Brewster      | A crazed Egyptian follows the members of an archaeology expedition and kills them off one by one while getting progressively older.           | English                   | United States  | nan                                                    | https://m.media-amazon.com/images/M/MV5BZDk4N2QwMDYtZGE0My00NTI0LWEyZTUtYTE2ZmNiMmVlMmEwXkEyXkFqcGdeQXVyMTQ2MjQyNDc@._V1_SX300.jpg |         nan |          4.7 | 635         | tt0049616 | movie  | nan         |          nan |       nan | True       | 4.7/10                    |               nan | nan          | nan                                                   | nan         | nan     |    nan | nan     | nan                      | nan                      | nan       |\n",
            "|  1 | Carry on Follow That Camel |   1967 | Not Rated | 07 Jan 1968 | 95 min    | Adventure, Comedy, Romance | Gerald Thomas        | Talbot Rothwell                  | Phil Silvers, Kenneth Williams, Jim Dale    | A bogus legionnaire proves his mettle during an Arab attack.                                                                                  | English                   | United Kingdom | nan                                                    | https://m.media-amazon.com/images/M/MV5BNDU0NmIzYTctN2NiOS00NzQ1LWIwNjItYjQ1N2VhNGJmNjQzXkEyXkFqcGdeQXVyMDY4MzkyNw@@._V1_SX300.jpg |         nan |          6   | 2,460       | tt0061680 | movie  | nan         |          nan |       nan | True       | 6.0/10                    |               nan | nan          | Carry On Follow That Camel - UK Trailer               | 8uqJcfY3epA | YouTube |    360 | Trailer | 2008-09-07T16:08:52.000Z | 533ec685c3a3685448003675 | tt0061680 |\n",
            "|  2 | Married to the Mob         |   1988 | R         | 19 Aug 1988 | 104 min   | Comedy, Crime, Romance     | Jonathan Demme       | Barry Strugatz, Mark R. Burns    | Michelle Pfeiffer, Alec Baldwin, Paul Lazar | A mobster's wife hates her lifestyle, but gets a chance to change it when her husband is killed - if the Long Island mob and the FBI let her. | English                   | United States  | Nominated for 1 Oscar. 6 wins & 5 nominations total    | https://m.media-amazon.com/images/M/MV5BYzY3ZWJmZjctY2U1Ni00NmRjLWI5YjQtMzk2ZTlhYjU0N2FhXkEyXkFqcGdeQXVyMTY5Nzc4MDY@._V1_SX300.jpg |          71 |          6.2 | 18,134      | tt0095593 | movie  | $21,486,757 |          nan |       nan | True       | 6.2/10                    |                90 | 71/100       | Married to the Mob (1988) ORIGINAL TRAILER [HD 1080p] | bXUqBEsHwMY | YouTube |   1080 | Trailer | 2018-04-12T20:17:58.000Z | 62e97afe1ad93b006154a584 | tt0095593 |\n",
            "|  3 | The Conversation           |   1974 | PG        | 12 Apr 1974 | 113 min   | Drama, Mystery, Thriller   | Francis Ford Coppola | Francis Ford Coppola             | Gene Hackman, John Cazale, Allen Garfield   | A paranoid, secretive surveillance expert has a crisis of conscience when he suspects that the couple he is spying on will be murdered.       | English                   | United States  | Nominated for 3 Oscars. 14 wins & 16 nominations total | https://m.media-amazon.com/images/M/MV5BNzAwZWRhZTEtOWYwMi00YzQ5LWE1MzQtM2JlZWE0Y2E4ZDg3XkEyXkFqcGdeQXVyMjUzOTY1NTc@._V1_SX300.jpg |          87 |          7.8 | 112,312     | tt0071360 | movie  | $4,671,805  |          nan |       nan | True       | 7.8/10                    |                97 | 87/100       | The Conversation (1974) ORIGINAL TRAILER [HD 1080p]   | elJL5D6HTvA | YouTube |   1080 | Trailer | 2018-08-08T20:21:39.000Z | 62e9466925cd85005dfff216 | tt0071360 |\n",
            "|  4 | The Wrong Man              |   1956 | Not Rated | 26 Jan 1957 | 105 min   | Drama, Film-Noir           | Alfred Hitchcock     | Maxwell Anderson, Angus MacPhail | Henry Fonda, Vera Miles, Anthony Quayle     | In 1953, an innocent man named Christopher Emanuel \"Manny\" Balestrero is arrested after being mistaken for an armed robber.                   | English, Italian, Spanish | United States  | 1 win & 1 nomination                                   | https://m.media-amazon.com/images/M/MV5BOWFhOTM1NDItZTMyYi00MGZiLWFjYTktOWI3YTgzNGRjY2I3XkEyXkFqcGdeQXVyNjc1NTYyMjg@._V1_SX300.jpg |          83 |          7.4 | 28,908      | tt0051207 | movie  | nan         |          nan |       nan | True       | 7.4/10                    |                93 | 83/100       | The Wrong Man (1956) ORIGINAL TRAILER [HD 1080p]      | 9RKEUzQe30M | YouTube |   1080 | Trailer | 2020-06-27T22:00:03.000Z | 61f05d84c5ada500fac4917a | tt0051207 |\n"
          ]
        }
      ]
    },
    {
      "cell_type": "code",
      "source": [
        "#supprimer les /100 dans metacritic\n",
        "df['Metacritic'] = df['Metacritic'].str.replace('/100', '')"
      ],
      "metadata": {
        "id": "aIE-ILxU8U0B"
      },
      "execution_count": null,
      "outputs": []
    },
    {
      "cell_type": "code",
      "source": [
        "print(df.head().to_markdown())"
      ],
      "metadata": {
        "colab": {
          "base_uri": "https://localhost:8080/"
        },
        "id": "_c8TSqAm8gyd",
        "outputId": "2b494726-08ec-4634-c822-61b351cf33db"
      },
      "execution_count": null,
      "outputs": [
        {
          "output_type": "stream",
          "name": "stdout",
          "text": [
            "|    | Title                      |   Year | Rated     | Released    | Runtime   | Genre                      | Director             | Writer                           | Actors                                      | Plot                                                                                                                                          | Language                  | Country        | Awards                                                 | Poster                                                                                                                             |   Metascore |   imdbRating | imdbVotes   | imdbID    | Type   | BoxOffice   |   Production |   Website | Response   | Internet Movie Database   |   Rotten Tomatoes |   Metacritic | name                                                  | key         | site    |   size | type    | published_at             | id                       | tconst    |\n",
            "|---:|:---------------------------|-------:|:----------|:------------|:----------|:---------------------------|:---------------------|:---------------------------------|:--------------------------------------------|:----------------------------------------------------------------------------------------------------------------------------------------------|:--------------------------|:---------------|:-------------------------------------------------------|:-----------------------------------------------------------------------------------------------------------------------------------|------------:|-------------:|:------------|:----------|:-------|:------------|-------------:|----------:|:-----------|:--------------------------|------------------:|-------------:|:------------------------------------------------------|:------------|:--------|-------:|:--------|:-------------------------|:-------------------------|:----------|\n",
            "|  0 | Pharaoh's Curse            |   1957 | Approved  | 01 Feb 1957 | 2 min     | Horror                     | Lee Sholem           | Richard H. Landau                | Mark Dana, Ziva Rodann, Diane Brewster      | A crazed Egyptian follows the members of an archaeology expedition and kills them off one by one while getting progressively older.           | English                   | United States  | nan                                                    | https://m.media-amazon.com/images/M/MV5BZDk4N2QwMDYtZGE0My00NTI0LWEyZTUtYTE2ZmNiMmVlMmEwXkEyXkFqcGdeQXVyMTQ2MjQyNDc@._V1_SX300.jpg |         nan |          4.7 | 635         | tt0049616 | movie  | nan         |          nan |       nan | True       | 4.7/10                    |               nan |          nan | nan                                                   | nan         | nan     |    nan | nan     | nan                      | nan                      | nan       |\n",
            "|  1 | Carry on Follow That Camel |   1967 | Not Rated | 07 Jan 1968 | 95 min    | Adventure, Comedy, Romance | Gerald Thomas        | Talbot Rothwell                  | Phil Silvers, Kenneth Williams, Jim Dale    | A bogus legionnaire proves his mettle during an Arab attack.                                                                                  | English                   | United Kingdom | nan                                                    | https://m.media-amazon.com/images/M/MV5BNDU0NmIzYTctN2NiOS00NzQ1LWIwNjItYjQ1N2VhNGJmNjQzXkEyXkFqcGdeQXVyMDY4MzkyNw@@._V1_SX300.jpg |         nan |          6   | 2,460       | tt0061680 | movie  | nan         |          nan |       nan | True       | 6.0/10                    |               nan |          nan | Carry On Follow That Camel - UK Trailer               | 8uqJcfY3epA | YouTube |    360 | Trailer | 2008-09-07T16:08:52.000Z | 533ec685c3a3685448003675 | tt0061680 |\n",
            "|  2 | Married to the Mob         |   1988 | R         | 19 Aug 1988 | 104 min   | Comedy, Crime, Romance     | Jonathan Demme       | Barry Strugatz, Mark R. Burns    | Michelle Pfeiffer, Alec Baldwin, Paul Lazar | A mobster's wife hates her lifestyle, but gets a chance to change it when her husband is killed - if the Long Island mob and the FBI let her. | English                   | United States  | Nominated for 1 Oscar. 6 wins & 5 nominations total    | https://m.media-amazon.com/images/M/MV5BYzY3ZWJmZjctY2U1Ni00NmRjLWI5YjQtMzk2ZTlhYjU0N2FhXkEyXkFqcGdeQXVyMTY5Nzc4MDY@._V1_SX300.jpg |          71 |          6.2 | 18,134      | tt0095593 | movie  | $21,486,757 |          nan |       nan | True       | 6.2/10                    |                90 |           71 | Married to the Mob (1988) ORIGINAL TRAILER [HD 1080p] | bXUqBEsHwMY | YouTube |   1080 | Trailer | 2018-04-12T20:17:58.000Z | 62e97afe1ad93b006154a584 | tt0095593 |\n",
            "|  3 | The Conversation           |   1974 | PG        | 12 Apr 1974 | 113 min   | Drama, Mystery, Thriller   | Francis Ford Coppola | Francis Ford Coppola             | Gene Hackman, John Cazale, Allen Garfield   | A paranoid, secretive surveillance expert has a crisis of conscience when he suspects that the couple he is spying on will be murdered.       | English                   | United States  | Nominated for 3 Oscars. 14 wins & 16 nominations total | https://m.media-amazon.com/images/M/MV5BNzAwZWRhZTEtOWYwMi00YzQ5LWE1MzQtM2JlZWE0Y2E4ZDg3XkEyXkFqcGdeQXVyMjUzOTY1NTc@._V1_SX300.jpg |          87 |          7.8 | 112,312     | tt0071360 | movie  | $4,671,805  |          nan |       nan | True       | 7.8/10                    |                97 |           87 | The Conversation (1974) ORIGINAL TRAILER [HD 1080p]   | elJL5D6HTvA | YouTube |   1080 | Trailer | 2018-08-08T20:21:39.000Z | 62e9466925cd85005dfff216 | tt0071360 |\n",
            "|  4 | The Wrong Man              |   1956 | Not Rated | 26 Jan 1957 | 105 min   | Drama, Film-Noir           | Alfred Hitchcock     | Maxwell Anderson, Angus MacPhail | Henry Fonda, Vera Miles, Anthony Quayle     | In 1953, an innocent man named Christopher Emanuel \"Manny\" Balestrero is arrested after being mistaken for an armed robber.                   | English, Italian, Spanish | United States  | 1 win & 1 nomination                                   | https://m.media-amazon.com/images/M/MV5BOWFhOTM1NDItZTMyYi00MGZiLWFjYTktOWI3YTgzNGRjY2I3XkEyXkFqcGdeQXVyNjc1NTYyMjg@._V1_SX300.jpg |          83 |          7.4 | 28,908      | tt0051207 | movie  | nan         |          nan |       nan | True       | 7.4/10                    |                93 |           83 | The Wrong Man (1956) ORIGINAL TRAILER [HD 1080p]      | 9RKEUzQe30M | YouTube |   1080 | Trailer | 2020-06-27T22:00:03.000Z | 61f05d84c5ada500fac4917a | tt0051207 |\n"
          ]
        }
      ]
    },
    {
      "cell_type": "code",
      "source": [
        "#test pour valider auprès des collègues\n",
        "df['Internet Movie Database'] = df['Internet Movie Database'].str.replace('.', '')\n",
        "df['Internet Movie Database'] = df['Internet Movie Database'].str.replace('/10', '/100')"
      ],
      "metadata": {
        "colab": {
          "base_uri": "https://localhost:8080/"
        },
        "id": "4YP_gytD9Pxl",
        "outputId": "80d885fc-c613-4a26-a28c-a0805bca0b86"
      },
      "execution_count": null,
      "outputs": [
        {
          "output_type": "stream",
          "name": "stderr",
          "text": [
            "/usr/local/lib/python3.7/dist-packages/ipykernel_launcher.py:1: FutureWarning: The default value of regex will change from True to False in a future version. In addition, single character regular expressions will *not* be treated as literal strings when regex=True.\n",
            "  \"\"\"Entry point for launching an IPython kernel.\n"
          ]
        }
      ]
    },
    {
      "cell_type": "code",
      "source": [
        "print(df.head().to_markdown())"
      ],
      "metadata": {
        "colab": {
          "base_uri": "https://localhost:8080/"
        },
        "id": "7RyVBQ_c9njE",
        "outputId": "cbd2cbc0-4486-4c72-a653-80040ebe76be"
      },
      "execution_count": null,
      "outputs": [
        {
          "output_type": "stream",
          "name": "stdout",
          "text": [
            "|    | Title                      |   Year | Rated     | Released    | Runtime   | Genre                      | Director             | Writer                           | Actors                                      | Plot                                                                                                                                          | Language                  | Country        | Awards                                                 | Poster                                                                                                                             |   Metascore |   imdbRating | imdbVotes   | imdbID    | Type   | BoxOffice   |   Production |   Website | Response   | Internet Movie Database   |   Rotten Tomatoes |   Metacritic | name                                                  | key         | site    |   size | type    | published_at             | id                       | tconst    |\n",
            "|---:|:---------------------------|-------:|:----------|:------------|:----------|:---------------------------|:---------------------|:---------------------------------|:--------------------------------------------|:----------------------------------------------------------------------------------------------------------------------------------------------|:--------------------------|:---------------|:-------------------------------------------------------|:-----------------------------------------------------------------------------------------------------------------------------------|------------:|-------------:|:------------|:----------|:-------|:------------|-------------:|----------:|:-----------|:--------------------------|------------------:|-------------:|:------------------------------------------------------|:------------|:--------|-------:|:--------|:-------------------------|:-------------------------|:----------|\n",
            "|  0 | Pharaoh's Curse            |   1957 | Approved  | 01 Feb 1957 | 2 min     | Horror                     | Lee Sholem           | Richard H. Landau                | Mark Dana, Ziva Rodann, Diane Brewster      | A crazed Egyptian follows the members of an archaeology expedition and kills them off one by one while getting progressively older.           | English                   | United States  | nan                                                    | https://m.media-amazon.com/images/M/MV5BZDk4N2QwMDYtZGE0My00NTI0LWEyZTUtYTE2ZmNiMmVlMmEwXkEyXkFqcGdeQXVyMTQ2MjQyNDc@._V1_SX300.jpg |         nan |          4.7 | 635         | tt0049616 | movie  | nan         |          nan |       nan | True       | 47/100                    |               nan |          nan | nan                                                   | nan         | nan     |    nan | nan     | nan                      | nan                      | nan       |\n",
            "|  1 | Carry on Follow That Camel |   1967 | Not Rated | 07 Jan 1968 | 95 min    | Adventure, Comedy, Romance | Gerald Thomas        | Talbot Rothwell                  | Phil Silvers, Kenneth Williams, Jim Dale    | A bogus legionnaire proves his mettle during an Arab attack.                                                                                  | English                   | United Kingdom | nan                                                    | https://m.media-amazon.com/images/M/MV5BNDU0NmIzYTctN2NiOS00NzQ1LWIwNjItYjQ1N2VhNGJmNjQzXkEyXkFqcGdeQXVyMDY4MzkyNw@@._V1_SX300.jpg |         nan |          6   | 2,460       | tt0061680 | movie  | nan         |          nan |       nan | True       | 60/100                    |               nan |          nan | Carry On Follow That Camel - UK Trailer               | 8uqJcfY3epA | YouTube |    360 | Trailer | 2008-09-07T16:08:52.000Z | 533ec685c3a3685448003675 | tt0061680 |\n",
            "|  2 | Married to the Mob         |   1988 | R         | 19 Aug 1988 | 104 min   | Comedy, Crime, Romance     | Jonathan Demme       | Barry Strugatz, Mark R. Burns    | Michelle Pfeiffer, Alec Baldwin, Paul Lazar | A mobster's wife hates her lifestyle, but gets a chance to change it when her husband is killed - if the Long Island mob and the FBI let her. | English                   | United States  | Nominated for 1 Oscar. 6 wins & 5 nominations total    | https://m.media-amazon.com/images/M/MV5BYzY3ZWJmZjctY2U1Ni00NmRjLWI5YjQtMzk2ZTlhYjU0N2FhXkEyXkFqcGdeQXVyMTY5Nzc4MDY@._V1_SX300.jpg |          71 |          6.2 | 18,134      | tt0095593 | movie  | $21,486,757 |          nan |       nan | True       | 62/100                    |                90 |           71 | Married to the Mob (1988) ORIGINAL TRAILER [HD 1080p] | bXUqBEsHwMY | YouTube |   1080 | Trailer | 2018-04-12T20:17:58.000Z | 62e97afe1ad93b006154a584 | tt0095593 |\n",
            "|  3 | The Conversation           |   1974 | PG        | 12 Apr 1974 | 113 min   | Drama, Mystery, Thriller   | Francis Ford Coppola | Francis Ford Coppola             | Gene Hackman, John Cazale, Allen Garfield   | A paranoid, secretive surveillance expert has a crisis of conscience when he suspects that the couple he is spying on will be murdered.       | English                   | United States  | Nominated for 3 Oscars. 14 wins & 16 nominations total | https://m.media-amazon.com/images/M/MV5BNzAwZWRhZTEtOWYwMi00YzQ5LWE1MzQtM2JlZWE0Y2E4ZDg3XkEyXkFqcGdeQXVyMjUzOTY1NTc@._V1_SX300.jpg |          87 |          7.8 | 112,312     | tt0071360 | movie  | $4,671,805  |          nan |       nan | True       | 78/100                    |                97 |           87 | The Conversation (1974) ORIGINAL TRAILER [HD 1080p]   | elJL5D6HTvA | YouTube |   1080 | Trailer | 2018-08-08T20:21:39.000Z | 62e9466925cd85005dfff216 | tt0071360 |\n",
            "|  4 | The Wrong Man              |   1956 | Not Rated | 26 Jan 1957 | 105 min   | Drama, Film-Noir           | Alfred Hitchcock     | Maxwell Anderson, Angus MacPhail | Henry Fonda, Vera Miles, Anthony Quayle     | In 1953, an innocent man named Christopher Emanuel \"Manny\" Balestrero is arrested after being mistaken for an armed robber.                   | English, Italian, Spanish | United States  | 1 win & 1 nomination                                   | https://m.media-amazon.com/images/M/MV5BOWFhOTM1NDItZTMyYi00MGZiLWFjYTktOWI3YTgzNGRjY2I3XkEyXkFqcGdeQXVyNjc1NTYyMjg@._V1_SX300.jpg |          83 |          7.4 | 28,908      | tt0051207 | movie  | nan         |          nan |       nan | True       | 74/100                    |                93 |           83 | The Wrong Man (1956) ORIGINAL TRAILER [HD 1080p]      | 9RKEUzQe30M | YouTube |   1080 | Trailer | 2020-06-27T22:00:03.000Z | 61f05d84c5ada500fac4917a | tt0051207 |\n"
          ]
        }
      ]
    },
    {
      "cell_type": "code",
      "source": [
        "#supprimer index 0\n",
        "df = df.drop(labels=0, axis=0)"
      ],
      "metadata": {
        "id": "GnBgiL41-mxw"
      },
      "execution_count": null,
      "outputs": []
    },
    {
      "cell_type": "code",
      "source": [
        "print(df.head().to_markdown())"
      ],
      "metadata": {
        "colab": {
          "base_uri": "https://localhost:8080/"
        },
        "id": "8BwI8QXP-8Lv",
        "outputId": "445c51c8-e219-4631-ec19-14eb4c10aa59"
      },
      "execution_count": null,
      "outputs": [
        {
          "output_type": "stream",
          "name": "stdout",
          "text": [
            "|    | Title                      |   Year | Rated     | Released    | Runtime   | Genre                      | Director             | Writer                           | Actors                                      | Plot                                                                                                                                          | Language                                    | Country        | Awards                                                 | Poster                                                                                                                             |   Metascore |   imdbRating | imdbVotes   | imdbID    | Type   | BoxOffice   |   Production |   Website | Response   | Internet Movie Database   |   Rotten Tomatoes |   Metacritic | name                                                  | key         | site    |   size | type    | published_at             | id                       | tconst    |\n",
            "|---:|:---------------------------|-------:|:----------|:------------|:----------|:---------------------------|:---------------------|:---------------------------------|:--------------------------------------------|:----------------------------------------------------------------------------------------------------------------------------------------------|:--------------------------------------------|:---------------|:-------------------------------------------------------|:-----------------------------------------------------------------------------------------------------------------------------------|------------:|-------------:|:------------|:----------|:-------|:------------|-------------:|----------:|:-----------|:--------------------------|------------------:|-------------:|:------------------------------------------------------|:------------|:--------|-------:|:--------|:-------------------------|:-------------------------|:----------|\n",
            "|  1 | Carry on Follow That Camel |   1967 | Not Rated | 07 Jan 1968 | 95 min    | Adventure, Comedy, Romance | Gerald Thomas        | Talbot Rothwell                  | Phil Silvers, Kenneth Williams, Jim Dale    | A bogus legionnaire proves his mettle during an Arab attack.                                                                                  | English                                     | United Kingdom | nan                                                    | https://m.media-amazon.com/images/M/MV5BNDU0NmIzYTctN2NiOS00NzQ1LWIwNjItYjQ1N2VhNGJmNjQzXkEyXkFqcGdeQXVyMDY4MzkyNw@@._V1_SX300.jpg |         nan |          6   | 2,460       | tt0061680 | movie  | nan         |          nan |       nan | True       | 60/100                    |               nan |          nan | Carry On Follow That Camel - UK Trailer               | 8uqJcfY3epA | YouTube |    360 | Trailer | 2008-09-07T16:08:52.000Z | 533ec685c3a3685448003675 | tt0061680 |\n",
            "|  2 | Married to the Mob         |   1988 | R         | 19 Aug 1988 | 104 min   | Comedy, Crime, Romance     | Jonathan Demme       | Barry Strugatz, Mark R. Burns    | Michelle Pfeiffer, Alec Baldwin, Paul Lazar | A mobster's wife hates her lifestyle, but gets a chance to change it when her husband is killed - if the Long Island mob and the FBI let her. | English                                     | United States  | Nominated for 1 Oscar. 6 wins & 5 nominations total    | https://m.media-amazon.com/images/M/MV5BYzY3ZWJmZjctY2U1Ni00NmRjLWI5YjQtMzk2ZTlhYjU0N2FhXkEyXkFqcGdeQXVyMTY5Nzc4MDY@._V1_SX300.jpg |          71 |          6.2 | 18,134      | tt0095593 | movie  | $21,486,757 |          nan |       nan | True       | 62/100                    |                90 |           71 | Married to the Mob (1988) ORIGINAL TRAILER [HD 1080p] | bXUqBEsHwMY | YouTube |   1080 | Trailer | 2018-04-12T20:17:58.000Z | 62e97afe1ad93b006154a584 | tt0095593 |\n",
            "|  3 | The Conversation           |   1974 | PG        | 12 Apr 1974 | 113 min   | Drama, Mystery, Thriller   | Francis Ford Coppola | Francis Ford Coppola             | Gene Hackman, John Cazale, Allen Garfield   | A paranoid, secretive surveillance expert has a crisis of conscience when he suspects that the couple he is spying on will be murdered.       | English                                     | United States  | Nominated for 3 Oscars. 14 wins & 16 nominations total | https://m.media-amazon.com/images/M/MV5BNzAwZWRhZTEtOWYwMi00YzQ5LWE1MzQtM2JlZWE0Y2E4ZDg3XkEyXkFqcGdeQXVyMjUzOTY1NTc@._V1_SX300.jpg |          87 |          7.8 | 112,312     | tt0071360 | movie  | $4,671,805  |          nan |       nan | True       | 78/100                    |                97 |           87 | The Conversation (1974) ORIGINAL TRAILER [HD 1080p]   | elJL5D6HTvA | YouTube |   1080 | Trailer | 2018-08-08T20:21:39.000Z | 62e9466925cd85005dfff216 | tt0071360 |\n",
            "|  4 | The Wrong Man              |   1956 | Not Rated | 26 Jan 1957 | 105 min   | Drama, Film-Noir           | Alfred Hitchcock     | Maxwell Anderson, Angus MacPhail | Henry Fonda, Vera Miles, Anthony Quayle     | In 1953, an innocent man named Christopher Emanuel \"Manny\" Balestrero is arrested after being mistaken for an armed robber.                   | English, Italian, Spanish                   | United States  | 1 win & 1 nomination                                   | https://m.media-amazon.com/images/M/MV5BOWFhOTM1NDItZTMyYi00MGZiLWFjYTktOWI3YTgzNGRjY2I3XkEyXkFqcGdeQXVyNjc1NTYyMjg@._V1_SX300.jpg |          83 |          7.4 | 28,908      | tt0051207 | movie  | nan         |          nan |       nan | True       | 74/100                    |                93 |           83 | The Wrong Man (1956) ORIGINAL TRAILER [HD 1080p]      | 9RKEUzQe30M | YouTube |   1080 | Trailer | 2020-06-27T22:00:03.000Z | 61f05d84c5ada500fac4917a | tt0051207 |\n",
            "|  5 | Videodrome                 |   1983 | R         | 04 Feb 1983 | 87 min    | Horror, Sci-Fi, Thriller   | David Cronenberg     | David Cronenberg                 | James Woods, Debbie Harry, Sonja Smits      | A programmer at a TV station that specializes in adult entertainment searches for the producers of a dangerous and bizarre broadcast.         | English, Spanish, Japanese, French, Italian | Canada         | 3 wins & 7 nominations                                 | https://m.media-amazon.com/images/M/MV5BNzdlNDk0YTMtNWJjOS00NzhlLThiOTAtZDUyOWNkNDQ2NmU3XkEyXkFqcGdeQXVyNzkwMjQ5NzM@._V1_SX300.jpg |          60 |          7.2 | 94,071      | tt0086541 | movie  | $2,120,439  |          nan |       nan | True       | 72/100                    |                79 |           60 | Original Trailer                                      | v8BUXKcp8zE | YouTube |   1080 | Trailer | 2022-07-29T14:50:35.000Z | 62e4285d57530e0058be4dfd | tt0086541 |\n"
          ]
        }
      ]
    },
    {
      "cell_type": "code",
      "source": [
        "# remplacer $ dans box office\n",
        "df['BoxOffice'] = df['BoxOffice'].str.replace('$', '')"
      ],
      "metadata": {
        "colab": {
          "base_uri": "https://localhost:8080/"
        },
        "id": "SKlG1Vfx_DsS",
        "outputId": "89deb135-2588-49a2-bade-f3acb6d4f064"
      },
      "execution_count": null,
      "outputs": [
        {
          "output_type": "stream",
          "name": "stderr",
          "text": [
            "/usr/local/lib/python3.7/dist-packages/ipykernel_launcher.py:2: FutureWarning: The default value of regex will change from True to False in a future version. In addition, single character regular expressions will *not* be treated as literal strings when regex=True.\n",
            "  \n"
          ]
        }
      ]
    },
    {
      "cell_type": "code",
      "source": [
        "print(df.head().to_markdown())"
      ],
      "metadata": {
        "colab": {
          "base_uri": "https://localhost:8080/"
        },
        "id": "hV58WpXvCT9V",
        "outputId": "322d6820-62f6-4be6-b390-ac5462c62807"
      },
      "execution_count": null,
      "outputs": [
        {
          "output_type": "stream",
          "name": "stdout",
          "text": [
            "|    | Title                      |   Year | Rated     | Released    | Runtime   | Genre                      | Director             | Writer                           | Actors                                      | Plot                                                                                                                                          | Language                                    | Country        | Awards                                                 | Poster                                                                                                                             |   Metascore |   imdbRating | imdbVotes   | imdbID    | Type   | BoxOffice   |   Production |   Website | Response   | Internet Movie Database   |   Rotten Tomatoes |   Metacritic | name                                                  | key         | site    |   size | type    | published_at             | id                       | tconst    |\n",
            "|---:|:---------------------------|-------:|:----------|:------------|:----------|:---------------------------|:---------------------|:---------------------------------|:--------------------------------------------|:----------------------------------------------------------------------------------------------------------------------------------------------|:--------------------------------------------|:---------------|:-------------------------------------------------------|:-----------------------------------------------------------------------------------------------------------------------------------|------------:|-------------:|:------------|:----------|:-------|:------------|-------------:|----------:|:-----------|:--------------------------|------------------:|-------------:|:------------------------------------------------------|:------------|:--------|-------:|:--------|:-------------------------|:-------------------------|:----------|\n",
            "|  1 | Carry on Follow That Camel |   1967 | Not Rated | 07 Jan 1968 | 95 min    | Adventure, Comedy, Romance | Gerald Thomas        | Talbot Rothwell                  | Phil Silvers, Kenneth Williams, Jim Dale    | A bogus legionnaire proves his mettle during an Arab attack.                                                                                  | English                                     | United Kingdom | nan                                                    | https://m.media-amazon.com/images/M/MV5BNDU0NmIzYTctN2NiOS00NzQ1LWIwNjItYjQ1N2VhNGJmNjQzXkEyXkFqcGdeQXVyMDY4MzkyNw@@._V1_SX300.jpg |         nan |          6   | 2,460       | tt0061680 | movie  | nan         |          nan |       nan | True       | 60/100                    |               nan |          nan | Carry On Follow That Camel - UK Trailer               | 8uqJcfY3epA | YouTube |    360 | Trailer | 2008-09-07T16:08:52.000Z | 533ec685c3a3685448003675 | tt0061680 |\n",
            "|  2 | Married to the Mob         |   1988 | R         | 19 Aug 1988 | 104 min   | Comedy, Crime, Romance     | Jonathan Demme       | Barry Strugatz, Mark R. Burns    | Michelle Pfeiffer, Alec Baldwin, Paul Lazar | A mobster's wife hates her lifestyle, but gets a chance to change it when her husband is killed - if the Long Island mob and the FBI let her. | English                                     | United States  | Nominated for 1 Oscar. 6 wins & 5 nominations total    | https://m.media-amazon.com/images/M/MV5BYzY3ZWJmZjctY2U1Ni00NmRjLWI5YjQtMzk2ZTlhYjU0N2FhXkEyXkFqcGdeQXVyMTY5Nzc4MDY@._V1_SX300.jpg |          71 |          6.2 | 18,134      | tt0095593 | movie  | 21,486,757  |          nan |       nan | True       | 62/100                    |                90 |           71 | Married to the Mob (1988) ORIGINAL TRAILER [HD 1080p] | bXUqBEsHwMY | YouTube |   1080 | Trailer | 2018-04-12T20:17:58.000Z | 62e97afe1ad93b006154a584 | tt0095593 |\n",
            "|  3 | The Conversation           |   1974 | PG        | 12 Apr 1974 | 113 min   | Drama, Mystery, Thriller   | Francis Ford Coppola | Francis Ford Coppola             | Gene Hackman, John Cazale, Allen Garfield   | A paranoid, secretive surveillance expert has a crisis of conscience when he suspects that the couple he is spying on will be murdered.       | English                                     | United States  | Nominated for 3 Oscars. 14 wins & 16 nominations total | https://m.media-amazon.com/images/M/MV5BNzAwZWRhZTEtOWYwMi00YzQ5LWE1MzQtM2JlZWE0Y2E4ZDg3XkEyXkFqcGdeQXVyMjUzOTY1NTc@._V1_SX300.jpg |          87 |          7.8 | 112,312     | tt0071360 | movie  | 4,671,805   |          nan |       nan | True       | 78/100                    |                97 |           87 | The Conversation (1974) ORIGINAL TRAILER [HD 1080p]   | elJL5D6HTvA | YouTube |   1080 | Trailer | 2018-08-08T20:21:39.000Z | 62e9466925cd85005dfff216 | tt0071360 |\n",
            "|  4 | The Wrong Man              |   1956 | Not Rated | 26 Jan 1957 | 105 min   | Drama, Film-Noir           | Alfred Hitchcock     | Maxwell Anderson, Angus MacPhail | Henry Fonda, Vera Miles, Anthony Quayle     | In 1953, an innocent man named Christopher Emanuel \"Manny\" Balestrero is arrested after being mistaken for an armed robber.                   | English, Italian, Spanish                   | United States  | 1 win & 1 nomination                                   | https://m.media-amazon.com/images/M/MV5BOWFhOTM1NDItZTMyYi00MGZiLWFjYTktOWI3YTgzNGRjY2I3XkEyXkFqcGdeQXVyNjc1NTYyMjg@._V1_SX300.jpg |          83 |          7.4 | 28,908      | tt0051207 | movie  | nan         |          nan |       nan | True       | 74/100                    |                93 |           83 | The Wrong Man (1956) ORIGINAL TRAILER [HD 1080p]      | 9RKEUzQe30M | YouTube |   1080 | Trailer | 2020-06-27T22:00:03.000Z | 61f05d84c5ada500fac4917a | tt0051207 |\n",
            "|  5 | Videodrome                 |   1983 | R         | 04 Feb 1983 | 87 min    | Horror, Sci-Fi, Thriller   | David Cronenberg     | David Cronenberg                 | James Woods, Debbie Harry, Sonja Smits      | A programmer at a TV station that specializes in adult entertainment searches for the producers of a dangerous and bizarre broadcast.         | English, Spanish, Japanese, French, Italian | Canada         | 3 wins & 7 nominations                                 | https://m.media-amazon.com/images/M/MV5BNzdlNDk0YTMtNWJjOS00NzhlLThiOTAtZDUyOWNkNDQ2NmU3XkEyXkFqcGdeQXVyNzkwMjQ5NzM@._V1_SX300.jpg |          60 |          7.2 | 94,071      | tt0086541 | movie  | 2,120,439   |          nan |       nan | True       | 72/100                    |                79 |           60 | Original Trailer                                      | v8BUXKcp8zE | YouTube |   1080 | Trailer | 2022-07-29T14:50:35.000Z | 62e4285d57530e0058be4dfd | tt0086541 |\n"
          ]
        }
      ]
    },
    {
      "cell_type": "code",
      "source": [
        "print(df.shape)"
      ],
      "metadata": {
        "colab": {
          "base_uri": "https://localhost:8080/"
        },
        "id": "XJtAcL9lFKM-",
        "outputId": "099d60a8-ebed-4894-c964-398bccc9697d"
      },
      "execution_count": null,
      "outputs": [
        {
          "output_type": "stream",
          "name": "stdout",
          "text": [
            "(1806,)\n"
          ]
        }
      ]
    },
    {
      "cell_type": "code",
      "source": [
        "#convertir box office en int\n",
        "#df['BoxOffice'] = df['BoxOffice'].str.replace(',', '')\n",
        "#df['BoxOffice'].fillna(0)\n",
        "#df['BoxOffice'].astype(object).astype(int)"
      ],
      "metadata": {
        "colab": {
          "base_uri": "https://localhost:8080/",
          "height": 503
        },
        "id": "A0SxVBTJC_kF",
        "outputId": "dd1153ea-2969-4616-8402-b89b3a6bbd23"
      },
      "execution_count": null,
      "outputs": [
        {
          "output_type": "error",
          "ename": "KeyError",
          "evalue": "ignored",
          "traceback": [
            "\u001b[0;31m---------------------------------------------------------------------------\u001b[0m",
            "\u001b[0;31mKeyError\u001b[0m                                  Traceback (most recent call last)",
            "\u001b[0;32m/usr/local/lib/python3.7/dist-packages/pandas/core/indexes/base.py\u001b[0m in \u001b[0;36mget_loc\u001b[0;34m(self, key, method, tolerance)\u001b[0m\n\u001b[1;32m   3360\u001b[0m             \u001b[0;32mtry\u001b[0m\u001b[0;34m:\u001b[0m\u001b[0;34m\u001b[0m\u001b[0;34m\u001b[0m\u001b[0m\n\u001b[0;32m-> 3361\u001b[0;31m                 \u001b[0;32mreturn\u001b[0m \u001b[0mself\u001b[0m\u001b[0;34m.\u001b[0m\u001b[0m_engine\u001b[0m\u001b[0;34m.\u001b[0m\u001b[0mget_loc\u001b[0m\u001b[0;34m(\u001b[0m\u001b[0mcasted_key\u001b[0m\u001b[0;34m)\u001b[0m\u001b[0;34m\u001b[0m\u001b[0;34m\u001b[0m\u001b[0m\n\u001b[0m\u001b[1;32m   3362\u001b[0m             \u001b[0;32mexcept\u001b[0m \u001b[0mKeyError\u001b[0m \u001b[0;32mas\u001b[0m \u001b[0merr\u001b[0m\u001b[0;34m:\u001b[0m\u001b[0;34m\u001b[0m\u001b[0;34m\u001b[0m\u001b[0m\n",
            "\u001b[0;32m/usr/local/lib/python3.7/dist-packages/pandas/_libs/index.pyx\u001b[0m in \u001b[0;36mpandas._libs.index.IndexEngine.get_loc\u001b[0;34m()\u001b[0m\n",
            "\u001b[0;32mpandas/_libs/index_class_helper.pxi\u001b[0m in \u001b[0;36mpandas._libs.index.Int64Engine._check_type\u001b[0;34m()\u001b[0m\n",
            "\u001b[0;32mpandas/_libs/index_class_helper.pxi\u001b[0m in \u001b[0;36mpandas._libs.index.Int64Engine._check_type\u001b[0;34m()\u001b[0m\n",
            "\u001b[0;31mKeyError\u001b[0m: 'BoxOffice'",
            "\nThe above exception was the direct cause of the following exception:\n",
            "\u001b[0;31mKeyError\u001b[0m                                  Traceback (most recent call last)",
            "\u001b[0;32m<ipython-input-54-74f14d1f2dfa>\u001b[0m in \u001b[0;36m<module>\u001b[0;34m\u001b[0m\n\u001b[1;32m      1\u001b[0m \u001b[0;31m#convertir box office en int\u001b[0m\u001b[0;34m\u001b[0m\u001b[0;34m\u001b[0m\u001b[0;34m\u001b[0m\u001b[0m\n\u001b[0;32m----> 2\u001b[0;31m \u001b[0mdf\u001b[0m\u001b[0;34m[\u001b[0m\u001b[0;34m'BoxOffice'\u001b[0m\u001b[0;34m]\u001b[0m \u001b[0;34m=\u001b[0m \u001b[0mdf\u001b[0m\u001b[0;34m[\u001b[0m\u001b[0;34m'BoxOffice'\u001b[0m\u001b[0;34m]\u001b[0m\u001b[0;34m.\u001b[0m\u001b[0mstr\u001b[0m\u001b[0;34m.\u001b[0m\u001b[0mreplace\u001b[0m\u001b[0;34m(\u001b[0m\u001b[0;34m','\u001b[0m\u001b[0;34m,\u001b[0m \u001b[0;34m''\u001b[0m\u001b[0;34m)\u001b[0m\u001b[0;34m\u001b[0m\u001b[0;34m\u001b[0m\u001b[0m\n\u001b[0m\u001b[1;32m      3\u001b[0m \u001b[0;31m#df['BoxOffice'].fillna(0)\u001b[0m\u001b[0;34m\u001b[0m\u001b[0;34m\u001b[0m\u001b[0;34m\u001b[0m\u001b[0m\n\u001b[1;32m      4\u001b[0m \u001b[0;31m#df['BoxOffice'].astype(object).astype(int)\u001b[0m\u001b[0;34m\u001b[0m\u001b[0;34m\u001b[0m\u001b[0;34m\u001b[0m\u001b[0m\n",
            "\u001b[0;32m/usr/local/lib/python3.7/dist-packages/pandas/core/series.py\u001b[0m in \u001b[0;36m__getitem__\u001b[0;34m(self, key)\u001b[0m\n\u001b[1;32m    940\u001b[0m \u001b[0;34m\u001b[0m\u001b[0m\n\u001b[1;32m    941\u001b[0m         \u001b[0;32melif\u001b[0m \u001b[0mkey_is_scalar\u001b[0m\u001b[0;34m:\u001b[0m\u001b[0;34m\u001b[0m\u001b[0;34m\u001b[0m\u001b[0m\n\u001b[0;32m--> 942\u001b[0;31m             \u001b[0;32mreturn\u001b[0m \u001b[0mself\u001b[0m\u001b[0;34m.\u001b[0m\u001b[0m_get_value\u001b[0m\u001b[0;34m(\u001b[0m\u001b[0mkey\u001b[0m\u001b[0;34m)\u001b[0m\u001b[0;34m\u001b[0m\u001b[0;34m\u001b[0m\u001b[0m\n\u001b[0m\u001b[1;32m    943\u001b[0m \u001b[0;34m\u001b[0m\u001b[0m\n\u001b[1;32m    944\u001b[0m         \u001b[0;32mif\u001b[0m \u001b[0mis_hashable\u001b[0m\u001b[0;34m(\u001b[0m\u001b[0mkey\u001b[0m\u001b[0;34m)\u001b[0m\u001b[0;34m:\u001b[0m\u001b[0;34m\u001b[0m\u001b[0;34m\u001b[0m\u001b[0m\n",
            "\u001b[0;32m/usr/local/lib/python3.7/dist-packages/pandas/core/series.py\u001b[0m in \u001b[0;36m_get_value\u001b[0;34m(self, label, takeable)\u001b[0m\n\u001b[1;32m   1049\u001b[0m \u001b[0;34m\u001b[0m\u001b[0m\n\u001b[1;32m   1050\u001b[0m         \u001b[0;31m# Similar to Index.get_value, but we do not fall back to positional\u001b[0m\u001b[0;34m\u001b[0m\u001b[0;34m\u001b[0m\u001b[0;34m\u001b[0m\u001b[0m\n\u001b[0;32m-> 1051\u001b[0;31m         \u001b[0mloc\u001b[0m \u001b[0;34m=\u001b[0m \u001b[0mself\u001b[0m\u001b[0;34m.\u001b[0m\u001b[0mindex\u001b[0m\u001b[0;34m.\u001b[0m\u001b[0mget_loc\u001b[0m\u001b[0;34m(\u001b[0m\u001b[0mlabel\u001b[0m\u001b[0;34m)\u001b[0m\u001b[0;34m\u001b[0m\u001b[0;34m\u001b[0m\u001b[0m\n\u001b[0m\u001b[1;32m   1052\u001b[0m         \u001b[0;32mreturn\u001b[0m \u001b[0mself\u001b[0m\u001b[0;34m.\u001b[0m\u001b[0mindex\u001b[0m\u001b[0;34m.\u001b[0m\u001b[0m_get_values_for_loc\u001b[0m\u001b[0;34m(\u001b[0m\u001b[0mself\u001b[0m\u001b[0;34m,\u001b[0m \u001b[0mloc\u001b[0m\u001b[0;34m,\u001b[0m \u001b[0mlabel\u001b[0m\u001b[0;34m)\u001b[0m\u001b[0;34m\u001b[0m\u001b[0;34m\u001b[0m\u001b[0m\n\u001b[1;32m   1053\u001b[0m \u001b[0;34m\u001b[0m\u001b[0m\n",
            "\u001b[0;32m/usr/local/lib/python3.7/dist-packages/pandas/core/indexes/base.py\u001b[0m in \u001b[0;36mget_loc\u001b[0;34m(self, key, method, tolerance)\u001b[0m\n\u001b[1;32m   3361\u001b[0m                 \u001b[0;32mreturn\u001b[0m \u001b[0mself\u001b[0m\u001b[0;34m.\u001b[0m\u001b[0m_engine\u001b[0m\u001b[0;34m.\u001b[0m\u001b[0mget_loc\u001b[0m\u001b[0;34m(\u001b[0m\u001b[0mcasted_key\u001b[0m\u001b[0;34m)\u001b[0m\u001b[0;34m\u001b[0m\u001b[0;34m\u001b[0m\u001b[0m\n\u001b[1;32m   3362\u001b[0m             \u001b[0;32mexcept\u001b[0m \u001b[0mKeyError\u001b[0m \u001b[0;32mas\u001b[0m \u001b[0merr\u001b[0m\u001b[0;34m:\u001b[0m\u001b[0;34m\u001b[0m\u001b[0;34m\u001b[0m\u001b[0m\n\u001b[0;32m-> 3363\u001b[0;31m                 \u001b[0;32mraise\u001b[0m \u001b[0mKeyError\u001b[0m\u001b[0;34m(\u001b[0m\u001b[0mkey\u001b[0m\u001b[0;34m)\u001b[0m \u001b[0;32mfrom\u001b[0m \u001b[0merr\u001b[0m\u001b[0;34m\u001b[0m\u001b[0;34m\u001b[0m\u001b[0m\n\u001b[0m\u001b[1;32m   3364\u001b[0m \u001b[0;34m\u001b[0m\u001b[0m\n\u001b[1;32m   3365\u001b[0m         \u001b[0;32mif\u001b[0m \u001b[0mis_scalar\u001b[0m\u001b[0;34m(\u001b[0m\u001b[0mkey\u001b[0m\u001b[0;34m)\u001b[0m \u001b[0;32mand\u001b[0m \u001b[0misna\u001b[0m\u001b[0;34m(\u001b[0m\u001b[0mkey\u001b[0m\u001b[0;34m)\u001b[0m \u001b[0;32mand\u001b[0m \u001b[0;32mnot\u001b[0m \u001b[0mself\u001b[0m\u001b[0;34m.\u001b[0m\u001b[0mhasnans\u001b[0m\u001b[0;34m:\u001b[0m\u001b[0;34m\u001b[0m\u001b[0;34m\u001b[0m\u001b[0m\n",
            "\u001b[0;31mKeyError\u001b[0m: 'BoxOffice'"
          ]
        }
      ]
    }
  ]
}