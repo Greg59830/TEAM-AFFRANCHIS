{
  "nbformat": 4,
  "nbformat_minor": 0,
  "metadata": {
    "colab": {
      "provenance": []
    },
    "kernelspec": {
      "name": "python3",
      "display_name": "Python 3"
    },
    "language_info": {
      "name": "python"
    }
  },
  "cells": [
    {
      "cell_type": "code",
      "execution_count": 1,
      "metadata": {
        "colab": {
          "base_uri": "https://localhost:8080/"
        },
        "id": "zyC8suTczu77",
        "outputId": "eceb3455-f3b1-49c3-986c-953370e73326"
      },
      "outputs": [
        {
          "output_type": "stream",
          "name": "stdout",
          "text": [
            "Mounted at /content/drive\n"
          ]
        }
      ],
      "source": [
        "import pandas as pd\n",
        "from google.colab import drive\n",
        "import requests\n",
        "drive.mount('/content/drive')"
      ]
    },
    {
      "cell_type": "code",
      "source": [
        "df=pd.read_csv('/content/drive/MyDrive/2209-Data/Projets/Projet2/Affranchis/CSV/Projet_2_Cinema_Final2_15_11_22.csv')  "
      ],
      "metadata": {
        "id": "TVDrCUk7z4yN"
      },
      "execution_count": 3,
      "outputs": []
    },
    {
      "cell_type": "code",
      "source": [
        "print(df.head().to_markdown())"
      ],
      "metadata": {
        "colab": {
          "base_uri": "https://localhost:8080/"
        },
        "id": "_e0LU5pM0pu1",
        "outputId": "0cbde51a-b0af-48a2-e31a-66a1bd4d03dc"
      },
      "execution_count": 4,
      "outputs": [
        {
          "output_type": "stream",
          "name": "stdout",
          "text": [
            "|    | Title                      |   Year |   Runtime | Genre                      | Director             | Writer                           | Actors                                      | Plot                                                                                                                                          | Awards                                                 | Poster                                                                                                                             |   Metascore |   imdbRating |   imdbVotes |   BoxOffice |   Production |   Website | Internet Movie Database   | Rotten Tomatoes   | Metacritic   |   Season | key         | site    | tconst    |\n",
            "|---:|:---------------------------|-------:|----------:|:---------------------------|:---------------------|:---------------------------------|:--------------------------------------------|:----------------------------------------------------------------------------------------------------------------------------------------------|:-------------------------------------------------------|:-----------------------------------------------------------------------------------------------------------------------------------|------------:|-------------:|------------:|------------:|-------------:|----------:|:--------------------------|:------------------|:-------------|---------:|:------------|:--------|:----------|\n",
            "|  0 | Carry on Follow That Camel |   1967 |        95 | Adventure, Comedy, Romance | Gerald Thomas        | Talbot Rothwell                  | Phil Silvers, Kenneth Williams, Jim Dale    | A bogus legionnaire proves his mettle during an Arab attack.                                                                                  | nan                                                    | https://m.media-amazon.com/images/M/MV5BNDU0NmIzYTctN2NiOS00NzQ1LWIwNjItYjQ1N2VhNGJmNjQzXkEyXkFqcGdeQXVyMDY4MzkyNw@@._V1_SX300.jpg |         nan |          6   |        2460 |           0 |          nan |       nan | 6.0/10                    | nan               | nan          |      nan | 8uqJcfY3epA | YouTube | tt0061680 |\n",
            "|  1 | Married to the Mob         |   1988 |       104 | Comedy, Crime, Romance     | Jonathan Demme       | Barry Strugatz, Mark R. Burns    | Michelle Pfeiffer, Alec Baldwin, Paul Lazar | A mobster's wife hates her lifestyle, but gets a chance to change it when her husband is killed - if the Long Island mob and the FBI let her. | Nominated for 1 Oscar. 6 wins & 5 nominations total    | https://m.media-amazon.com/images/M/MV5BYzY3ZWJmZjctY2U1Ni00NmRjLWI5YjQtMzk2ZTlhYjU0N2FhXkEyXkFqcGdeQXVyMTY5Nzc4MDY@._V1_SX300.jpg |          71 |          6.2 |       18134 |    21486757 |          nan |       nan | 6.2/10                    | 90%               | 71/100       |      nan | bXUqBEsHwMY | YouTube | tt0095593 |\n",
            "|  2 | The Conversation           |   1974 |       113 | Drama, Mystery, Thriller   | Francis Ford Coppola | Francis Ford Coppola             | Gene Hackman, John Cazale, Allen Garfield   | A paranoid, secretive surveillance expert has a crisis of conscience when he suspects that the couple he is spying on will be murdered.       | Nominated for 3 Oscars. 14 wins & 16 nominations total | https://m.media-amazon.com/images/M/MV5BNzAwZWRhZTEtOWYwMi00YzQ5LWE1MzQtM2JlZWE0Y2E4ZDg3XkEyXkFqcGdeQXVyMjUzOTY1NTc@._V1_SX300.jpg |          87 |          7.8 |      112312 |     4671805 |          nan |       nan | 7.8/10                    | 97%               | 87/100       |      nan | elJL5D6HTvA | YouTube | tt0071360 |\n",
            "|  3 | The Wrong Man              |   1956 |       105 | Drama, Film-Noir           | Alfred Hitchcock     | Maxwell Anderson, Angus MacPhail | Henry Fonda, Vera Miles, Anthony Quayle     | In 1953, an innocent man named Christopher Emanuel \"Manny\" Balestrero is arrested after being mistaken for an armed robber.                   | 1 win & 1 nomination                                   | https://m.media-amazon.com/images/M/MV5BOWFhOTM1NDItZTMyYi00MGZiLWFjYTktOWI3YTgzNGRjY2I3XkEyXkFqcGdeQXVyNjc1NTYyMjg@._V1_SX300.jpg |          83 |          7.4 |       28908 |           0 |          nan |       nan | 7.4/10                    | 93%               | 83/100       |      nan | 9RKEUzQe30M | YouTube | tt0051207 |\n",
            "|  4 | Videodrome                 |   1983 |        87 | Horror, Sci-Fi, Thriller   | David Cronenberg     | David Cronenberg                 | James Woods, Debbie Harry, Sonja Smits      | A programmer at a TV station that specializes in adult entertainment searches for the producers of a dangerous and bizarre broadcast.         | 3 wins & 7 nominations                                 | https://m.media-amazon.com/images/M/MV5BNzdlNDk0YTMtNWJjOS00NzhlLThiOTAtZDUyOWNkNDQ2NmU3XkEyXkFqcGdeQXVyNzkwMjQ5NzM@._V1_SX300.jpg |          60 |          7.2 |       94071 |     2120439 |          nan |       nan | 7.2/10                    | 79%               | 60/100       |      nan | v8BUXKcp8zE | YouTube | tt0086541 |\n"
          ]
        }
      ]
    },
    {
      "cell_type": "code",
      "source": [
        "#dupliquer les colonnes notes sauf IMDB_rating\n",
        "df['Internet Movie Database2'] = df.loc[:, 'Internet Movie Database']"
      ],
      "metadata": {
        "id": "51c0Vzv418eo"
      },
      "execution_count": 5,
      "outputs": []
    },
    {
      "cell_type": "code",
      "source": [
        "df['Rotten Tomatoes2'] = df.loc[:, 'Rotten Tomatoes']"
      ],
      "metadata": {
        "id": "w_dKBtM82eH1"
      },
      "execution_count": 6,
      "outputs": []
    },
    {
      "cell_type": "code",
      "source": [
        "df['Rotten Tomatoes2'] = df.loc[:, 'Rotten Tomatoes']"
      ],
      "metadata": {
        "id": "d98StlzH2nxg"
      },
      "execution_count": 7,
      "outputs": []
    },
    {
      "cell_type": "code",
      "source": [
        "df['Metacritic2'] = df.loc[:, 'Metacritic']"
      ],
      "metadata": {
        "id": "2pK-sjyW2rxI"
      },
      "execution_count": 10,
      "outputs": []
    },
    {
      "cell_type": "code",
      "source": [],
      "metadata": {
        "id": "VErCzsPX3RME"
      },
      "execution_count": null,
      "outputs": []
    },
    {
      "cell_type": "code",
      "source": [
        "print(df.head().to_markdown())"
      ],
      "metadata": {
        "colab": {
          "base_uri": "https://localhost:8080/"
        },
        "id": "EaeQg1ei2-FG",
        "outputId": "d727cd46-d611-40eb-8956-f70bbb4e8e70"
      },
      "execution_count": 11,
      "outputs": [
        {
          "output_type": "stream",
          "name": "stdout",
          "text": [
            "|    | Title                      |   Year |   Runtime | Genre                      | Director             | Writer                           | Actors                                      | Plot                                                                                                                                          | Awards                                                 | Poster                                                                                                                             |   Metascore |   imdbRating |   imdbVotes |   BoxOffice |   Production |   Website | Internet Movie Database   | Rotten Tomatoes   | Metacritic   |   Season | key         | site    | tconst    | Internet Movie Database2   | Rotten Tomatoes2   | Metacritic2   |\n",
            "|---:|:---------------------------|-------:|----------:|:---------------------------|:---------------------|:---------------------------------|:--------------------------------------------|:----------------------------------------------------------------------------------------------------------------------------------------------|:-------------------------------------------------------|:-----------------------------------------------------------------------------------------------------------------------------------|------------:|-------------:|------------:|------------:|-------------:|----------:|:--------------------------|:------------------|:-------------|---------:|:------------|:--------|:----------|:---------------------------|:-------------------|:--------------|\n",
            "|  0 | Carry on Follow That Camel |   1967 |        95 | Adventure, Comedy, Romance | Gerald Thomas        | Talbot Rothwell                  | Phil Silvers, Kenneth Williams, Jim Dale    | A bogus legionnaire proves his mettle during an Arab attack.                                                                                  | nan                                                    | https://m.media-amazon.com/images/M/MV5BNDU0NmIzYTctN2NiOS00NzQ1LWIwNjItYjQ1N2VhNGJmNjQzXkEyXkFqcGdeQXVyMDY4MzkyNw@@._V1_SX300.jpg |         nan |          6   |        2460 |           0 |          nan |       nan | 6.0/10                    | nan               | nan          |      nan | 8uqJcfY3epA | YouTube | tt0061680 | 6.0/10                     | nan                | nan           |\n",
            "|  1 | Married to the Mob         |   1988 |       104 | Comedy, Crime, Romance     | Jonathan Demme       | Barry Strugatz, Mark R. Burns    | Michelle Pfeiffer, Alec Baldwin, Paul Lazar | A mobster's wife hates her lifestyle, but gets a chance to change it when her husband is killed - if the Long Island mob and the FBI let her. | Nominated for 1 Oscar. 6 wins & 5 nominations total    | https://m.media-amazon.com/images/M/MV5BYzY3ZWJmZjctY2U1Ni00NmRjLWI5YjQtMzk2ZTlhYjU0N2FhXkEyXkFqcGdeQXVyMTY5Nzc4MDY@._V1_SX300.jpg |          71 |          6.2 |       18134 |    21486757 |          nan |       nan | 6.2/10                    | 90%               | 71/100       |      nan | bXUqBEsHwMY | YouTube | tt0095593 | 6.2/10                     | 90%                | 71/100        |\n",
            "|  2 | The Conversation           |   1974 |       113 | Drama, Mystery, Thriller   | Francis Ford Coppola | Francis Ford Coppola             | Gene Hackman, John Cazale, Allen Garfield   | A paranoid, secretive surveillance expert has a crisis of conscience when he suspects that the couple he is spying on will be murdered.       | Nominated for 3 Oscars. 14 wins & 16 nominations total | https://m.media-amazon.com/images/M/MV5BNzAwZWRhZTEtOWYwMi00YzQ5LWE1MzQtM2JlZWE0Y2E4ZDg3XkEyXkFqcGdeQXVyMjUzOTY1NTc@._V1_SX300.jpg |          87 |          7.8 |      112312 |     4671805 |          nan |       nan | 7.8/10                    | 97%               | 87/100       |      nan | elJL5D6HTvA | YouTube | tt0071360 | 7.8/10                     | 97%                | 87/100        |\n",
            "|  3 | The Wrong Man              |   1956 |       105 | Drama, Film-Noir           | Alfred Hitchcock     | Maxwell Anderson, Angus MacPhail | Henry Fonda, Vera Miles, Anthony Quayle     | In 1953, an innocent man named Christopher Emanuel \"Manny\" Balestrero is arrested after being mistaken for an armed robber.                   | 1 win & 1 nomination                                   | https://m.media-amazon.com/images/M/MV5BOWFhOTM1NDItZTMyYi00MGZiLWFjYTktOWI3YTgzNGRjY2I3XkEyXkFqcGdeQXVyNjc1NTYyMjg@._V1_SX300.jpg |          83 |          7.4 |       28908 |           0 |          nan |       nan | 7.4/10                    | 93%               | 83/100       |      nan | 9RKEUzQe30M | YouTube | tt0051207 | 7.4/10                     | 93%                | 83/100        |\n",
            "|  4 | Videodrome                 |   1983 |        87 | Horror, Sci-Fi, Thriller   | David Cronenberg     | David Cronenberg                 | James Woods, Debbie Harry, Sonja Smits      | A programmer at a TV station that specializes in adult entertainment searches for the producers of a dangerous and bizarre broadcast.         | 3 wins & 7 nominations                                 | https://m.media-amazon.com/images/M/MV5BNzdlNDk0YTMtNWJjOS00NzhlLThiOTAtZDUyOWNkNDQ2NmU3XkEyXkFqcGdeQXVyNzkwMjQ5NzM@._V1_SX300.jpg |          60 |          7.2 |       94071 |     2120439 |          nan |       nan | 7.2/10                    | 79%               | 60/100       |      nan | v8BUXKcp8zE | YouTube | tt0086541 | 7.2/10                     | 79%                | 60/100        |\n"
          ]
        }
      ]
    },
    {
      "cell_type": "code",
      "source": [
        "#supprimer la colonne Season\n",
        "df.drop(['Season'], axis=1)"
      ],
      "metadata": {
        "colab": {
          "base_uri": "https://localhost:8080/",
          "height": 1000
        },
        "id": "kY8ekjhU3GW2",
        "outputId": "bdee2308-04cc-49ff-eeb5-7948e4179860"
      },
      "execution_count": 12,
      "outputs": [
        {
          "output_type": "execute_result",
          "data": {
            "text/plain": [
              "                                        Title  Year  Runtime  \\\n",
              "0                  Carry on Follow That Camel  1967       95   \n",
              "1                          Married to the Mob  1988      104   \n",
              "2                            The Conversation  1974      113   \n",
              "3                               The Wrong Man  1956      105   \n",
              "4                                  Videodrome  1983       87   \n",
              "...                                       ...   ...      ...   \n",
              "1797                            Run All Night  2015      114   \n",
              "1798      Prince of Persia: The Sands of Time  2010      116   \n",
              "1799  Fantastic Beasts and Where to Find Them  2016      132   \n",
              "1800                       The 15:17 to Paris  2018       94   \n",
              "1801                Spider-Man: Far from Home  2019      129   \n",
              "\n",
              "                           Genre              Director  \\\n",
              "0     Adventure, Comedy, Romance         Gerald Thomas   \n",
              "1         Comedy, Crime, Romance        Jonathan Demme   \n",
              "2       Drama, Mystery, Thriller  Francis Ford Coppola   \n",
              "3               Drama, Film-Noir      Alfred Hitchcock   \n",
              "4       Horror, Sci-Fi, Thriller      David Cronenberg   \n",
              "...                          ...                   ...   \n",
              "1797     Action, Crime, Thriller    Jaume Collet-Serra   \n",
              "1798  Action, Adventure, Fantasy           Mike Newell   \n",
              "1799  Adventure, Family, Fantasy           David Yates   \n",
              "1800  Biography, Drama, Thriller        Clint Eastwood   \n",
              "1801   Action, Adventure, Sci-Fi             Jon Watts   \n",
              "\n",
              "                                               Writer  \\\n",
              "0                                     Talbot Rothwell   \n",
              "1                       Barry Strugatz, Mark R. Burns   \n",
              "2                                Francis Ford Coppola   \n",
              "3                    Maxwell Anderson, Angus MacPhail   \n",
              "4                                    David Cronenberg   \n",
              "...                                               ...   \n",
              "1797                                    Brad Ingelsby   \n",
              "1798             Boaz Yakin, Doug Miro, Carlo Bernard   \n",
              "1799                                     J.K. Rowling   \n",
              "1800  Dorothy Blyskal, Anthony Sadler, Alek Skarlatos   \n",
              "1801            Chris McKenna, Erik Sommers, Stan Lee   \n",
              "\n",
              "                                                 Actors  \\\n",
              "0              Phil Silvers, Kenneth Williams, Jim Dale   \n",
              "1           Michelle Pfeiffer, Alec Baldwin, Paul Lazar   \n",
              "2             Gene Hackman, John Cazale, Allen Garfield   \n",
              "3               Henry Fonda, Vera Miles, Anthony Quayle   \n",
              "4                James Woods, Debbie Harry, Sonja Smits   \n",
              "...                                                 ...   \n",
              "1797              Liam Neeson, Ed Harris, Joel Kinnaman   \n",
              "1798      Jake Gyllenhaal, Gemma Arterton, Ben Kingsley   \n",
              "1799  Eddie Redmayne, Katherine Waterston, Alison Sudol   \n",
              "1800      Alek Skarlatos, Anthony Sadler, Spencer Stone   \n",
              "1801    Tom Holland, Samuel L. Jackson, Jake Gyllenhaal   \n",
              "\n",
              "                                                   Plot  \\\n",
              "0     A bogus legionnaire proves his mettle during a...   \n",
              "1     A mobster's wife hates her lifestyle, but gets...   \n",
              "2     A paranoid, secretive surveillance expert has ...   \n",
              "3     In 1953, an innocent man named Christopher Ema...   \n",
              "4     A programmer at a TV station that specializes ...   \n",
              "...                                                 ...   \n",
              "1797  Mobster and hit man Jimmy Conlon has one night...   \n",
              "1798  A young fugitive prince and princess must stop...   \n",
              "1799  The adventures of writer Newt Scamander in New...   \n",
              "1800  Three courageous young Americans prevent a ter...   \n",
              "1801  Following the events of Avengers: Endgame (201...   \n",
              "\n",
              "                                                 Awards  \\\n",
              "0                                                   NaN   \n",
              "1     Nominated for 1 Oscar. 6 wins & 5 nominations ...   \n",
              "2     Nominated for 3 Oscars. 14 wins & 16 nominatio...   \n",
              "3                                  1 win & 1 nomination   \n",
              "4                                3 wins & 7 nominations   \n",
              "...                                                 ...   \n",
              "1797                                                NaN   \n",
              "1798                             1 win & 11 nominations   \n",
              "1799        Won 1 Oscar. 15 wins & 54 nominations total   \n",
              "1800                              1 win & 3 nominations   \n",
              "1801                           11 wins & 26 nominations   \n",
              "\n",
              "                                                 Poster  ...  Website  \\\n",
              "0     https://m.media-amazon.com/images/M/MV5BNDU0Nm...  ...      NaN   \n",
              "1     https://m.media-amazon.com/images/M/MV5BYzY3ZW...  ...      NaN   \n",
              "2     https://m.media-amazon.com/images/M/MV5BNzAwZW...  ...      NaN   \n",
              "3     https://m.media-amazon.com/images/M/MV5BOWFhOT...  ...      NaN   \n",
              "4     https://m.media-amazon.com/images/M/MV5BNzdlND...  ...      NaN   \n",
              "...                                                 ...  ...      ...   \n",
              "1797  https://m.media-amazon.com/images/M/MV5BMTU2OD...  ...      NaN   \n",
              "1798  https://m.media-amazon.com/images/M/MV5BMTMwND...  ...      NaN   \n",
              "1799  https://m.media-amazon.com/images/M/MV5BMjMxOT...  ...      NaN   \n",
              "1800  https://m.media-amazon.com/images/M/MV5BMTY0Nj...  ...      NaN   \n",
              "1801  https://m.media-amazon.com/images/M/MV5BMGZlNT...  ...      NaN   \n",
              "\n",
              "      Internet Movie Database  Rotten Tomatoes  Metacritic          key  \\\n",
              "0                      6.0/10              NaN         NaN  8uqJcfY3epA   \n",
              "1                      6.2/10              90%      71/100  bXUqBEsHwMY   \n",
              "2                      7.8/10              97%      87/100  elJL5D6HTvA   \n",
              "3                      7.4/10              93%      83/100  9RKEUzQe30M   \n",
              "4                      7.2/10              79%      60/100  v8BUXKcp8zE   \n",
              "...                       ...              ...         ...          ...   \n",
              "1797                   6.6/10              59%      59/100  plrh783KCqg   \n",
              "1798                   6.6/10              37%      50/100  FXmicz3KPfI   \n",
              "1799                   7.2/10              74%      66/100  Vso5o11LuGU   \n",
              "1800                   5.3/10              23%      45/100  PtngiTJZTos   \n",
              "1801                   7.4/10              90%      69/100  LFoz8ZJWmPs   \n",
              "\n",
              "         site     tconst Internet Movie Database2 Rotten Tomatoes2 Metacritic2  \n",
              "0     YouTube  tt0061680                   6.0/10              NaN         NaN  \n",
              "1     YouTube  tt0095593                   6.2/10              90%      71/100  \n",
              "2     YouTube  tt0071360                   7.8/10              97%      87/100  \n",
              "3     YouTube  tt0051207                   7.4/10              93%      83/100  \n",
              "4     YouTube  tt0086541                   7.2/10              79%      60/100  \n",
              "...       ...        ...                      ...              ...         ...  \n",
              "1797  YouTube  tt2199571                   6.6/10              59%      59/100  \n",
              "1798  YouTube  tt0473075                   6.6/10              37%      50/100  \n",
              "1799  YouTube  tt3183660                   7.2/10              74%      66/100  \n",
              "1800  YouTube  tt6802308                   5.3/10              23%      45/100  \n",
              "1801  YouTube  tt6320628                   7.4/10              90%      69/100  \n",
              "\n",
              "[1802 rows x 25 columns]"
            ],
            "text/html": [
              "\n",
              "  <div id=\"df-79f957da-7c23-4379-be69-c42cba6a0d75\">\n",
              "    <div class=\"colab-df-container\">\n",
              "      <div>\n",
              "<style scoped>\n",
              "    .dataframe tbody tr th:only-of-type {\n",
              "        vertical-align: middle;\n",
              "    }\n",
              "\n",
              "    .dataframe tbody tr th {\n",
              "        vertical-align: top;\n",
              "    }\n",
              "\n",
              "    .dataframe thead th {\n",
              "        text-align: right;\n",
              "    }\n",
              "</style>\n",
              "<table border=\"1\" class=\"dataframe\">\n",
              "  <thead>\n",
              "    <tr style=\"text-align: right;\">\n",
              "      <th></th>\n",
              "      <th>Title</th>\n",
              "      <th>Year</th>\n",
              "      <th>Runtime</th>\n",
              "      <th>Genre</th>\n",
              "      <th>Director</th>\n",
              "      <th>Writer</th>\n",
              "      <th>Actors</th>\n",
              "      <th>Plot</th>\n",
              "      <th>Awards</th>\n",
              "      <th>Poster</th>\n",
              "      <th>...</th>\n",
              "      <th>Website</th>\n",
              "      <th>Internet Movie Database</th>\n",
              "      <th>Rotten Tomatoes</th>\n",
              "      <th>Metacritic</th>\n",
              "      <th>key</th>\n",
              "      <th>site</th>\n",
              "      <th>tconst</th>\n",
              "      <th>Internet Movie Database2</th>\n",
              "      <th>Rotten Tomatoes2</th>\n",
              "      <th>Metacritic2</th>\n",
              "    </tr>\n",
              "  </thead>\n",
              "  <tbody>\n",
              "    <tr>\n",
              "      <th>0</th>\n",
              "      <td>Carry on Follow That Camel</td>\n",
              "      <td>1967</td>\n",
              "      <td>95</td>\n",
              "      <td>Adventure, Comedy, Romance</td>\n",
              "      <td>Gerald Thomas</td>\n",
              "      <td>Talbot Rothwell</td>\n",
              "      <td>Phil Silvers, Kenneth Williams, Jim Dale</td>\n",
              "      <td>A bogus legionnaire proves his mettle during a...</td>\n",
              "      <td>NaN</td>\n",
              "      <td>https://m.media-amazon.com/images/M/MV5BNDU0Nm...</td>\n",
              "      <td>...</td>\n",
              "      <td>NaN</td>\n",
              "      <td>6.0/10</td>\n",
              "      <td>NaN</td>\n",
              "      <td>NaN</td>\n",
              "      <td>8uqJcfY3epA</td>\n",
              "      <td>YouTube</td>\n",
              "      <td>tt0061680</td>\n",
              "      <td>6.0/10</td>\n",
              "      <td>NaN</td>\n",
              "      <td>NaN</td>\n",
              "    </tr>\n",
              "    <tr>\n",
              "      <th>1</th>\n",
              "      <td>Married to the Mob</td>\n",
              "      <td>1988</td>\n",
              "      <td>104</td>\n",
              "      <td>Comedy, Crime, Romance</td>\n",
              "      <td>Jonathan Demme</td>\n",
              "      <td>Barry Strugatz, Mark R. Burns</td>\n",
              "      <td>Michelle Pfeiffer, Alec Baldwin, Paul Lazar</td>\n",
              "      <td>A mobster's wife hates her lifestyle, but gets...</td>\n",
              "      <td>Nominated for 1 Oscar. 6 wins &amp; 5 nominations ...</td>\n",
              "      <td>https://m.media-amazon.com/images/M/MV5BYzY3ZW...</td>\n",
              "      <td>...</td>\n",
              "      <td>NaN</td>\n",
              "      <td>6.2/10</td>\n",
              "      <td>90%</td>\n",
              "      <td>71/100</td>\n",
              "      <td>bXUqBEsHwMY</td>\n",
              "      <td>YouTube</td>\n",
              "      <td>tt0095593</td>\n",
              "      <td>6.2/10</td>\n",
              "      <td>90%</td>\n",
              "      <td>71/100</td>\n",
              "    </tr>\n",
              "    <tr>\n",
              "      <th>2</th>\n",
              "      <td>The Conversation</td>\n",
              "      <td>1974</td>\n",
              "      <td>113</td>\n",
              "      <td>Drama, Mystery, Thriller</td>\n",
              "      <td>Francis Ford Coppola</td>\n",
              "      <td>Francis Ford Coppola</td>\n",
              "      <td>Gene Hackman, John Cazale, Allen Garfield</td>\n",
              "      <td>A paranoid, secretive surveillance expert has ...</td>\n",
              "      <td>Nominated for 3 Oscars. 14 wins &amp; 16 nominatio...</td>\n",
              "      <td>https://m.media-amazon.com/images/M/MV5BNzAwZW...</td>\n",
              "      <td>...</td>\n",
              "      <td>NaN</td>\n",
              "      <td>7.8/10</td>\n",
              "      <td>97%</td>\n",
              "      <td>87/100</td>\n",
              "      <td>elJL5D6HTvA</td>\n",
              "      <td>YouTube</td>\n",
              "      <td>tt0071360</td>\n",
              "      <td>7.8/10</td>\n",
              "      <td>97%</td>\n",
              "      <td>87/100</td>\n",
              "    </tr>\n",
              "    <tr>\n",
              "      <th>3</th>\n",
              "      <td>The Wrong Man</td>\n",
              "      <td>1956</td>\n",
              "      <td>105</td>\n",
              "      <td>Drama, Film-Noir</td>\n",
              "      <td>Alfred Hitchcock</td>\n",
              "      <td>Maxwell Anderson, Angus MacPhail</td>\n",
              "      <td>Henry Fonda, Vera Miles, Anthony Quayle</td>\n",
              "      <td>In 1953, an innocent man named Christopher Ema...</td>\n",
              "      <td>1 win &amp; 1 nomination</td>\n",
              "      <td>https://m.media-amazon.com/images/M/MV5BOWFhOT...</td>\n",
              "      <td>...</td>\n",
              "      <td>NaN</td>\n",
              "      <td>7.4/10</td>\n",
              "      <td>93%</td>\n",
              "      <td>83/100</td>\n",
              "      <td>9RKEUzQe30M</td>\n",
              "      <td>YouTube</td>\n",
              "      <td>tt0051207</td>\n",
              "      <td>7.4/10</td>\n",
              "      <td>93%</td>\n",
              "      <td>83/100</td>\n",
              "    </tr>\n",
              "    <tr>\n",
              "      <th>4</th>\n",
              "      <td>Videodrome</td>\n",
              "      <td>1983</td>\n",
              "      <td>87</td>\n",
              "      <td>Horror, Sci-Fi, Thriller</td>\n",
              "      <td>David Cronenberg</td>\n",
              "      <td>David Cronenberg</td>\n",
              "      <td>James Woods, Debbie Harry, Sonja Smits</td>\n",
              "      <td>A programmer at a TV station that specializes ...</td>\n",
              "      <td>3 wins &amp; 7 nominations</td>\n",
              "      <td>https://m.media-amazon.com/images/M/MV5BNzdlND...</td>\n",
              "      <td>...</td>\n",
              "      <td>NaN</td>\n",
              "      <td>7.2/10</td>\n",
              "      <td>79%</td>\n",
              "      <td>60/100</td>\n",
              "      <td>v8BUXKcp8zE</td>\n",
              "      <td>YouTube</td>\n",
              "      <td>tt0086541</td>\n",
              "      <td>7.2/10</td>\n",
              "      <td>79%</td>\n",
              "      <td>60/100</td>\n",
              "    </tr>\n",
              "    <tr>\n",
              "      <th>...</th>\n",
              "      <td>...</td>\n",
              "      <td>...</td>\n",
              "      <td>...</td>\n",
              "      <td>...</td>\n",
              "      <td>...</td>\n",
              "      <td>...</td>\n",
              "      <td>...</td>\n",
              "      <td>...</td>\n",
              "      <td>...</td>\n",
              "      <td>...</td>\n",
              "      <td>...</td>\n",
              "      <td>...</td>\n",
              "      <td>...</td>\n",
              "      <td>...</td>\n",
              "      <td>...</td>\n",
              "      <td>...</td>\n",
              "      <td>...</td>\n",
              "      <td>...</td>\n",
              "      <td>...</td>\n",
              "      <td>...</td>\n",
              "      <td>...</td>\n",
              "    </tr>\n",
              "    <tr>\n",
              "      <th>1797</th>\n",
              "      <td>Run All Night</td>\n",
              "      <td>2015</td>\n",
              "      <td>114</td>\n",
              "      <td>Action, Crime, Thriller</td>\n",
              "      <td>Jaume Collet-Serra</td>\n",
              "      <td>Brad Ingelsby</td>\n",
              "      <td>Liam Neeson, Ed Harris, Joel Kinnaman</td>\n",
              "      <td>Mobster and hit man Jimmy Conlon has one night...</td>\n",
              "      <td>NaN</td>\n",
              "      <td>https://m.media-amazon.com/images/M/MV5BMTU2OD...</td>\n",
              "      <td>...</td>\n",
              "      <td>NaN</td>\n",
              "      <td>6.6/10</td>\n",
              "      <td>59%</td>\n",
              "      <td>59/100</td>\n",
              "      <td>plrh783KCqg</td>\n",
              "      <td>YouTube</td>\n",
              "      <td>tt2199571</td>\n",
              "      <td>6.6/10</td>\n",
              "      <td>59%</td>\n",
              "      <td>59/100</td>\n",
              "    </tr>\n",
              "    <tr>\n",
              "      <th>1798</th>\n",
              "      <td>Prince of Persia: The Sands of Time</td>\n",
              "      <td>2010</td>\n",
              "      <td>116</td>\n",
              "      <td>Action, Adventure, Fantasy</td>\n",
              "      <td>Mike Newell</td>\n",
              "      <td>Boaz Yakin, Doug Miro, Carlo Bernard</td>\n",
              "      <td>Jake Gyllenhaal, Gemma Arterton, Ben Kingsley</td>\n",
              "      <td>A young fugitive prince and princess must stop...</td>\n",
              "      <td>1 win &amp; 11 nominations</td>\n",
              "      <td>https://m.media-amazon.com/images/M/MV5BMTMwND...</td>\n",
              "      <td>...</td>\n",
              "      <td>NaN</td>\n",
              "      <td>6.6/10</td>\n",
              "      <td>37%</td>\n",
              "      <td>50/100</td>\n",
              "      <td>FXmicz3KPfI</td>\n",
              "      <td>YouTube</td>\n",
              "      <td>tt0473075</td>\n",
              "      <td>6.6/10</td>\n",
              "      <td>37%</td>\n",
              "      <td>50/100</td>\n",
              "    </tr>\n",
              "    <tr>\n",
              "      <th>1799</th>\n",
              "      <td>Fantastic Beasts and Where to Find Them</td>\n",
              "      <td>2016</td>\n",
              "      <td>132</td>\n",
              "      <td>Adventure, Family, Fantasy</td>\n",
              "      <td>David Yates</td>\n",
              "      <td>J.K. Rowling</td>\n",
              "      <td>Eddie Redmayne, Katherine Waterston, Alison Sudol</td>\n",
              "      <td>The adventures of writer Newt Scamander in New...</td>\n",
              "      <td>Won 1 Oscar. 15 wins &amp; 54 nominations total</td>\n",
              "      <td>https://m.media-amazon.com/images/M/MV5BMjMxOT...</td>\n",
              "      <td>...</td>\n",
              "      <td>NaN</td>\n",
              "      <td>7.2/10</td>\n",
              "      <td>74%</td>\n",
              "      <td>66/100</td>\n",
              "      <td>Vso5o11LuGU</td>\n",
              "      <td>YouTube</td>\n",
              "      <td>tt3183660</td>\n",
              "      <td>7.2/10</td>\n",
              "      <td>74%</td>\n",
              "      <td>66/100</td>\n",
              "    </tr>\n",
              "    <tr>\n",
              "      <th>1800</th>\n",
              "      <td>The 15:17 to Paris</td>\n",
              "      <td>2018</td>\n",
              "      <td>94</td>\n",
              "      <td>Biography, Drama, Thriller</td>\n",
              "      <td>Clint Eastwood</td>\n",
              "      <td>Dorothy Blyskal, Anthony Sadler, Alek Skarlatos</td>\n",
              "      <td>Alek Skarlatos, Anthony Sadler, Spencer Stone</td>\n",
              "      <td>Three courageous young Americans prevent a ter...</td>\n",
              "      <td>1 win &amp; 3 nominations</td>\n",
              "      <td>https://m.media-amazon.com/images/M/MV5BMTY0Nj...</td>\n",
              "      <td>...</td>\n",
              "      <td>NaN</td>\n",
              "      <td>5.3/10</td>\n",
              "      <td>23%</td>\n",
              "      <td>45/100</td>\n",
              "      <td>PtngiTJZTos</td>\n",
              "      <td>YouTube</td>\n",
              "      <td>tt6802308</td>\n",
              "      <td>5.3/10</td>\n",
              "      <td>23%</td>\n",
              "      <td>45/100</td>\n",
              "    </tr>\n",
              "    <tr>\n",
              "      <th>1801</th>\n",
              "      <td>Spider-Man: Far from Home</td>\n",
              "      <td>2019</td>\n",
              "      <td>129</td>\n",
              "      <td>Action, Adventure, Sci-Fi</td>\n",
              "      <td>Jon Watts</td>\n",
              "      <td>Chris McKenna, Erik Sommers, Stan Lee</td>\n",
              "      <td>Tom Holland, Samuel L. Jackson, Jake Gyllenhaal</td>\n",
              "      <td>Following the events of Avengers: Endgame (201...</td>\n",
              "      <td>11 wins &amp; 26 nominations</td>\n",
              "      <td>https://m.media-amazon.com/images/M/MV5BMGZlNT...</td>\n",
              "      <td>...</td>\n",
              "      <td>NaN</td>\n",
              "      <td>7.4/10</td>\n",
              "      <td>90%</td>\n",
              "      <td>69/100</td>\n",
              "      <td>LFoz8ZJWmPs</td>\n",
              "      <td>YouTube</td>\n",
              "      <td>tt6320628</td>\n",
              "      <td>7.4/10</td>\n",
              "      <td>90%</td>\n",
              "      <td>69/100</td>\n",
              "    </tr>\n",
              "  </tbody>\n",
              "</table>\n",
              "<p>1802 rows × 25 columns</p>\n",
              "</div>\n",
              "      <button class=\"colab-df-convert\" onclick=\"convertToInteractive('df-79f957da-7c23-4379-be69-c42cba6a0d75')\"\n",
              "              title=\"Convert this dataframe to an interactive table.\"\n",
              "              style=\"display:none;\">\n",
              "        \n",
              "  <svg xmlns=\"http://www.w3.org/2000/svg\" height=\"24px\"viewBox=\"0 0 24 24\"\n",
              "       width=\"24px\">\n",
              "    <path d=\"M0 0h24v24H0V0z\" fill=\"none\"/>\n",
              "    <path d=\"M18.56 5.44l.94 2.06.94-2.06 2.06-.94-2.06-.94-.94-2.06-.94 2.06-2.06.94zm-11 1L8.5 8.5l.94-2.06 2.06-.94-2.06-.94L8.5 2.5l-.94 2.06-2.06.94zm10 10l.94 2.06.94-2.06 2.06-.94-2.06-.94-.94-2.06-.94 2.06-2.06.94z\"/><path d=\"M17.41 7.96l-1.37-1.37c-.4-.4-.92-.59-1.43-.59-.52 0-1.04.2-1.43.59L10.3 9.45l-7.72 7.72c-.78.78-.78 2.05 0 2.83L4 21.41c.39.39.9.59 1.41.59.51 0 1.02-.2 1.41-.59l7.78-7.78 2.81-2.81c.8-.78.8-2.07 0-2.86zM5.41 20L4 18.59l7.72-7.72 1.47 1.35L5.41 20z\"/>\n",
              "  </svg>\n",
              "      </button>\n",
              "      \n",
              "  <style>\n",
              "    .colab-df-container {\n",
              "      display:flex;\n",
              "      flex-wrap:wrap;\n",
              "      gap: 12px;\n",
              "    }\n",
              "\n",
              "    .colab-df-convert {\n",
              "      background-color: #E8F0FE;\n",
              "      border: none;\n",
              "      border-radius: 50%;\n",
              "      cursor: pointer;\n",
              "      display: none;\n",
              "      fill: #1967D2;\n",
              "      height: 32px;\n",
              "      padding: 0 0 0 0;\n",
              "      width: 32px;\n",
              "    }\n",
              "\n",
              "    .colab-df-convert:hover {\n",
              "      background-color: #E2EBFA;\n",
              "      box-shadow: 0px 1px 2px rgba(60, 64, 67, 0.3), 0px 1px 3px 1px rgba(60, 64, 67, 0.15);\n",
              "      fill: #174EA6;\n",
              "    }\n",
              "\n",
              "    [theme=dark] .colab-df-convert {\n",
              "      background-color: #3B4455;\n",
              "      fill: #D2E3FC;\n",
              "    }\n",
              "\n",
              "    [theme=dark] .colab-df-convert:hover {\n",
              "      background-color: #434B5C;\n",
              "      box-shadow: 0px 1px 3px 1px rgba(0, 0, 0, 0.15);\n",
              "      filter: drop-shadow(0px 1px 2px rgba(0, 0, 0, 0.3));\n",
              "      fill: #FFFFFF;\n",
              "    }\n",
              "  </style>\n",
              "\n",
              "      <script>\n",
              "        const buttonEl =\n",
              "          document.querySelector('#df-79f957da-7c23-4379-be69-c42cba6a0d75 button.colab-df-convert');\n",
              "        buttonEl.style.display =\n",
              "          google.colab.kernel.accessAllowed ? 'block' : 'none';\n",
              "\n",
              "        async function convertToInteractive(key) {\n",
              "          const element = document.querySelector('#df-79f957da-7c23-4379-be69-c42cba6a0d75');\n",
              "          const dataTable =\n",
              "            await google.colab.kernel.invokeFunction('convertToInteractive',\n",
              "                                                     [key], {});\n",
              "          if (!dataTable) return;\n",
              "\n",
              "          const docLinkHtml = 'Like what you see? Visit the ' +\n",
              "            '<a target=\"_blank\" href=https://colab.research.google.com/notebooks/data_table.ipynb>data table notebook</a>'\n",
              "            + ' to learn more about interactive tables.';\n",
              "          element.innerHTML = '';\n",
              "          dataTable['output_type'] = 'display_data';\n",
              "          await google.colab.output.renderOutput(dataTable, element);\n",
              "          const docLink = document.createElement('div');\n",
              "          docLink.innerHTML = docLinkHtml;\n",
              "          element.appendChild(docLink);\n",
              "        }\n",
              "      </script>\n",
              "    </div>\n",
              "  </div>\n",
              "  "
            ]
          },
          "metadata": {},
          "execution_count": 12
        }
      ]
    },
    {
      "cell_type": "code",
      "source": [
        "print(df.head().to_markdown())"
      ],
      "metadata": {
        "colab": {
          "base_uri": "https://localhost:8080/"
        },
        "id": "1bc-izLe3X29",
        "outputId": "235e9859-e80e-4f51-adc9-2729e235443f"
      },
      "execution_count": 13,
      "outputs": [
        {
          "output_type": "stream",
          "name": "stdout",
          "text": [
            "|    | Title                      |   Year |   Runtime | Genre                      | Director             | Writer                           | Actors                                      | Plot                                                                                                                                          | Awards                                                 | Poster                                                                                                                             |   Metascore |   imdbRating |   imdbVotes |   BoxOffice |   Production |   Website | Internet Movie Database   | Rotten Tomatoes   | Metacritic   |   Season | key         | site    | tconst    | Internet Movie Database2   | Rotten Tomatoes2   | Metacritic2   |\n",
            "|---:|:---------------------------|-------:|----------:|:---------------------------|:---------------------|:---------------------------------|:--------------------------------------------|:----------------------------------------------------------------------------------------------------------------------------------------------|:-------------------------------------------------------|:-----------------------------------------------------------------------------------------------------------------------------------|------------:|-------------:|------------:|------------:|-------------:|----------:|:--------------------------|:------------------|:-------------|---------:|:------------|:--------|:----------|:---------------------------|:-------------------|:--------------|\n",
            "|  0 | Carry on Follow That Camel |   1967 |        95 | Adventure, Comedy, Romance | Gerald Thomas        | Talbot Rothwell                  | Phil Silvers, Kenneth Williams, Jim Dale    | A bogus legionnaire proves his mettle during an Arab attack.                                                                                  | nan                                                    | https://m.media-amazon.com/images/M/MV5BNDU0NmIzYTctN2NiOS00NzQ1LWIwNjItYjQ1N2VhNGJmNjQzXkEyXkFqcGdeQXVyMDY4MzkyNw@@._V1_SX300.jpg |         nan |          6   |        2460 |           0 |          nan |       nan | 6.0/10                    | nan               | nan          |      nan | 8uqJcfY3epA | YouTube | tt0061680 | 6.0/10                     | nan                | nan           |\n",
            "|  1 | Married to the Mob         |   1988 |       104 | Comedy, Crime, Romance     | Jonathan Demme       | Barry Strugatz, Mark R. Burns    | Michelle Pfeiffer, Alec Baldwin, Paul Lazar | A mobster's wife hates her lifestyle, but gets a chance to change it when her husband is killed - if the Long Island mob and the FBI let her. | Nominated for 1 Oscar. 6 wins & 5 nominations total    | https://m.media-amazon.com/images/M/MV5BYzY3ZWJmZjctY2U1Ni00NmRjLWI5YjQtMzk2ZTlhYjU0N2FhXkEyXkFqcGdeQXVyMTY5Nzc4MDY@._V1_SX300.jpg |          71 |          6.2 |       18134 |    21486757 |          nan |       nan | 6.2/10                    | 90%               | 71/100       |      nan | bXUqBEsHwMY | YouTube | tt0095593 | 6.2/10                     | 90%                | 71/100        |\n",
            "|  2 | The Conversation           |   1974 |       113 | Drama, Mystery, Thriller   | Francis Ford Coppola | Francis Ford Coppola             | Gene Hackman, John Cazale, Allen Garfield   | A paranoid, secretive surveillance expert has a crisis of conscience when he suspects that the couple he is spying on will be murdered.       | Nominated for 3 Oscars. 14 wins & 16 nominations total | https://m.media-amazon.com/images/M/MV5BNzAwZWRhZTEtOWYwMi00YzQ5LWE1MzQtM2JlZWE0Y2E4ZDg3XkEyXkFqcGdeQXVyMjUzOTY1NTc@._V1_SX300.jpg |          87 |          7.8 |      112312 |     4671805 |          nan |       nan | 7.8/10                    | 97%               | 87/100       |      nan | elJL5D6HTvA | YouTube | tt0071360 | 7.8/10                     | 97%                | 87/100        |\n",
            "|  3 | The Wrong Man              |   1956 |       105 | Drama, Film-Noir           | Alfred Hitchcock     | Maxwell Anderson, Angus MacPhail | Henry Fonda, Vera Miles, Anthony Quayle     | In 1953, an innocent man named Christopher Emanuel \"Manny\" Balestrero is arrested after being mistaken for an armed robber.                   | 1 win & 1 nomination                                   | https://m.media-amazon.com/images/M/MV5BOWFhOTM1NDItZTMyYi00MGZiLWFjYTktOWI3YTgzNGRjY2I3XkEyXkFqcGdeQXVyNjc1NTYyMjg@._V1_SX300.jpg |          83 |          7.4 |       28908 |           0 |          nan |       nan | 7.4/10                    | 93%               | 83/100       |      nan | 9RKEUzQe30M | YouTube | tt0051207 | 7.4/10                     | 93%                | 83/100        |\n",
            "|  4 | Videodrome                 |   1983 |        87 | Horror, Sci-Fi, Thriller   | David Cronenberg     | David Cronenberg                 | James Woods, Debbie Harry, Sonja Smits      | A programmer at a TV station that specializes in adult entertainment searches for the producers of a dangerous and bizarre broadcast.         | 3 wins & 7 nominations                                 | https://m.media-amazon.com/images/M/MV5BNzdlNDk0YTMtNWJjOS00NzhlLThiOTAtZDUyOWNkNDQ2NmU3XkEyXkFqcGdeQXVyNzkwMjQ5NzM@._V1_SX300.jpg |          60 |          7.2 |       94071 |     2120439 |          nan |       nan | 7.2/10                    | 79%               | 60/100       |      nan | v8BUXKcp8zE | YouTube | tt0086541 | 7.2/10                     | 79%                | 60/100        |\n"
          ]
        }
      ]
    },
    {
      "cell_type": "markdown",
      "source": [
        "SUPPRIMER LES % et aligner les scores de rating sur la meme base."
      ],
      "metadata": {
        "id": "RSmx5mju4Bkt"
      }
    },
    {
      "cell_type": "code",
      "source": [
        "df['Internet Movie Database'] = df['Internet Movie Database'].str.replace('.', '')\n",
        "df['Internet Movie Database'] = df['Internet Movie Database'].str.replace('/10', '')\n"
      ],
      "metadata": {
        "colab": {
          "base_uri": "https://localhost:8080/"
        },
        "id": "HEnIx1Ks3e6t",
        "outputId": "734f30ad-9eaa-499f-e235-87115e03aaa4"
      },
      "execution_count": 22,
      "outputs": [
        {
          "output_type": "stream",
          "name": "stderr",
          "text": [
            "/usr/local/lib/python3.7/dist-packages/ipykernel_launcher.py:1: FutureWarning: The default value of regex will change from True to False in a future version. In addition, single character regular expressions will *not* be treated as literal strings when regex=True.\n",
            "  \"\"\"Entry point for launching an IPython kernel.\n"
          ]
        }
      ]
    },
    {
      "cell_type": "code",
      "source": [
        "print(df.head().to_markdown())"
      ],
      "metadata": {
        "colab": {
          "base_uri": "https://localhost:8080/"
        },
        "id": "FgbBqJBJ3krU",
        "outputId": "4be059c9-467a-4e3b-e9af-6f606b0c70a5"
      },
      "execution_count": 17,
      "outputs": [
        {
          "output_type": "stream",
          "name": "stdout",
          "text": [
            "|    | Title                      |   Year |   Runtime | Genre                      | Director             | Writer                           | Actors                                      | Plot                                                                                                                                          | Awards                                                 | Poster                                                                                                                             |   Metascore |   imdbRating |   imdbVotes |   BoxOffice |   Production |   Website |   Internet Movie Database | Rotten Tomatoes   | Metacritic   |   Season | key         | site    | tconst    | Internet Movie Database2   | Rotten Tomatoes2   | Metacritic2   |\n",
            "|---:|:---------------------------|-------:|----------:|:---------------------------|:---------------------|:---------------------------------|:--------------------------------------------|:----------------------------------------------------------------------------------------------------------------------------------------------|:-------------------------------------------------------|:-----------------------------------------------------------------------------------------------------------------------------------|------------:|-------------:|------------:|------------:|-------------:|----------:|--------------------------:|:------------------|:-------------|---------:|:------------|:--------|:----------|:---------------------------|:-------------------|:--------------|\n",
            "|  0 | Carry on Follow That Camel |   1967 |        95 | Adventure, Comedy, Romance | Gerald Thomas        | Talbot Rothwell                  | Phil Silvers, Kenneth Williams, Jim Dale    | A bogus legionnaire proves his mettle during an Arab attack.                                                                                  | nan                                                    | https://m.media-amazon.com/images/M/MV5BNDU0NmIzYTctN2NiOS00NzQ1LWIwNjItYjQ1N2VhNGJmNjQzXkEyXkFqcGdeQXVyMDY4MzkyNw@@._V1_SX300.jpg |         nan |          6   |        2460 |           0 |          nan |       nan |                       600 | nan               | nan          |      nan | 8uqJcfY3epA | YouTube | tt0061680 | 6.0/10                     | nan                | nan           |\n",
            "|  1 | Married to the Mob         |   1988 |       104 | Comedy, Crime, Romance     | Jonathan Demme       | Barry Strugatz, Mark R. Burns    | Michelle Pfeiffer, Alec Baldwin, Paul Lazar | A mobster's wife hates her lifestyle, but gets a chance to change it when her husband is killed - if the Long Island mob and the FBI let her. | Nominated for 1 Oscar. 6 wins & 5 nominations total    | https://m.media-amazon.com/images/M/MV5BYzY3ZWJmZjctY2U1Ni00NmRjLWI5YjQtMzk2ZTlhYjU0N2FhXkEyXkFqcGdeQXVyMTY5Nzc4MDY@._V1_SX300.jpg |          71 |          6.2 |       18134 |    21486757 |          nan |       nan |                       620 | 90%               | 71/100       |      nan | bXUqBEsHwMY | YouTube | tt0095593 | 6.2/10                     | 90%                | 71/100        |\n",
            "|  2 | The Conversation           |   1974 |       113 | Drama, Mystery, Thriller   | Francis Ford Coppola | Francis Ford Coppola             | Gene Hackman, John Cazale, Allen Garfield   | A paranoid, secretive surveillance expert has a crisis of conscience when he suspects that the couple he is spying on will be murdered.       | Nominated for 3 Oscars. 14 wins & 16 nominations total | https://m.media-amazon.com/images/M/MV5BNzAwZWRhZTEtOWYwMi00YzQ5LWE1MzQtM2JlZWE0Y2E4ZDg3XkEyXkFqcGdeQXVyMjUzOTY1NTc@._V1_SX300.jpg |          87 |          7.8 |      112312 |     4671805 |          nan |       nan |                       780 | 97%               | 87/100       |      nan | elJL5D6HTvA | YouTube | tt0071360 | 7.8/10                     | 97%                | 87/100        |\n",
            "|  3 | The Wrong Man              |   1956 |       105 | Drama, Film-Noir           | Alfred Hitchcock     | Maxwell Anderson, Angus MacPhail | Henry Fonda, Vera Miles, Anthony Quayle     | In 1953, an innocent man named Christopher Emanuel \"Manny\" Balestrero is arrested after being mistaken for an armed robber.                   | 1 win & 1 nomination                                   | https://m.media-amazon.com/images/M/MV5BOWFhOTM1NDItZTMyYi00MGZiLWFjYTktOWI3YTgzNGRjY2I3XkEyXkFqcGdeQXVyNjc1NTYyMjg@._V1_SX300.jpg |          83 |          7.4 |       28908 |           0 |          nan |       nan |                       740 | 93%               | 83/100       |      nan | 9RKEUzQe30M | YouTube | tt0051207 | 7.4/10                     | 93%                | 83/100        |\n",
            "|  4 | Videodrome                 |   1983 |        87 | Horror, Sci-Fi, Thriller   | David Cronenberg     | David Cronenberg                 | James Woods, Debbie Harry, Sonja Smits      | A programmer at a TV station that specializes in adult entertainment searches for the producers of a dangerous and bizarre broadcast.         | 3 wins & 7 nominations                                 | https://m.media-amazon.com/images/M/MV5BNzdlNDk0YTMtNWJjOS00NzhlLThiOTAtZDUyOWNkNDQ2NmU3XkEyXkFqcGdeQXVyNzkwMjQ5NzM@._V1_SX300.jpg |          60 |          7.2 |       94071 |     2120439 |          nan |       nan |                       720 | 79%               | 60/100       |      nan | v8BUXKcp8zE | YouTube | tt0086541 | 7.2/10                     | 79%                | 60/100        |\n"
          ]
        }
      ]
    },
    {
      "cell_type": "code",
      "source": [
        "df['Rotten Tomatoes'] = df['Rotten Tomatoes'].str.replace('%', '') #enelever les % dans rotten tomatoes"
      ],
      "metadata": {
        "id": "0_SBZPvT3_S2"
      },
      "execution_count": 18,
      "outputs": []
    },
    {
      "cell_type": "code",
      "source": [
        "print(df.head().to_markdown())"
      ],
      "metadata": {
        "colab": {
          "base_uri": "https://localhost:8080/"
        },
        "id": "1uuq3Fwq4mM9",
        "outputId": "c598f14e-d12c-4779-fbca-defea13864bd"
      },
      "execution_count": 19,
      "outputs": [
        {
          "output_type": "stream",
          "name": "stdout",
          "text": [
            "|    | Title                      |   Year |   Runtime | Genre                      | Director             | Writer                           | Actors                                      | Plot                                                                                                                                          | Awards                                                 | Poster                                                                                                                             |   Metascore |   imdbRating |   imdbVotes |   BoxOffice |   Production |   Website |   Internet Movie Database |   Rotten Tomatoes | Metacritic   |   Season | key         | site    | tconst    | Internet Movie Database2   | Rotten Tomatoes2   | Metacritic2   |\n",
            "|---:|:---------------------------|-------:|----------:|:---------------------------|:---------------------|:---------------------------------|:--------------------------------------------|:----------------------------------------------------------------------------------------------------------------------------------------------|:-------------------------------------------------------|:-----------------------------------------------------------------------------------------------------------------------------------|------------:|-------------:|------------:|------------:|-------------:|----------:|--------------------------:|------------------:|:-------------|---------:|:------------|:--------|:----------|:---------------------------|:-------------------|:--------------|\n",
            "|  0 | Carry on Follow That Camel |   1967 |        95 | Adventure, Comedy, Romance | Gerald Thomas        | Talbot Rothwell                  | Phil Silvers, Kenneth Williams, Jim Dale    | A bogus legionnaire proves his mettle during an Arab attack.                                                                                  | nan                                                    | https://m.media-amazon.com/images/M/MV5BNDU0NmIzYTctN2NiOS00NzQ1LWIwNjItYjQ1N2VhNGJmNjQzXkEyXkFqcGdeQXVyMDY4MzkyNw@@._V1_SX300.jpg |         nan |          6   |        2460 |           0 |          nan |       nan |                       600 |               nan | nan          |      nan | 8uqJcfY3epA | YouTube | tt0061680 | 6.0/10                     | nan                | nan           |\n",
            "|  1 | Married to the Mob         |   1988 |       104 | Comedy, Crime, Romance     | Jonathan Demme       | Barry Strugatz, Mark R. Burns    | Michelle Pfeiffer, Alec Baldwin, Paul Lazar | A mobster's wife hates her lifestyle, but gets a chance to change it when her husband is killed - if the Long Island mob and the FBI let her. | Nominated for 1 Oscar. 6 wins & 5 nominations total    | https://m.media-amazon.com/images/M/MV5BYzY3ZWJmZjctY2U1Ni00NmRjLWI5YjQtMzk2ZTlhYjU0N2FhXkEyXkFqcGdeQXVyMTY5Nzc4MDY@._V1_SX300.jpg |          71 |          6.2 |       18134 |    21486757 |          nan |       nan |                       620 |                90 | 71/100       |      nan | bXUqBEsHwMY | YouTube | tt0095593 | 6.2/10                     | 90%                | 71/100        |\n",
            "|  2 | The Conversation           |   1974 |       113 | Drama, Mystery, Thriller   | Francis Ford Coppola | Francis Ford Coppola             | Gene Hackman, John Cazale, Allen Garfield   | A paranoid, secretive surveillance expert has a crisis of conscience when he suspects that the couple he is spying on will be murdered.       | Nominated for 3 Oscars. 14 wins & 16 nominations total | https://m.media-amazon.com/images/M/MV5BNzAwZWRhZTEtOWYwMi00YzQ5LWE1MzQtM2JlZWE0Y2E4ZDg3XkEyXkFqcGdeQXVyMjUzOTY1NTc@._V1_SX300.jpg |          87 |          7.8 |      112312 |     4671805 |          nan |       nan |                       780 |                97 | 87/100       |      nan | elJL5D6HTvA | YouTube | tt0071360 | 7.8/10                     | 97%                | 87/100        |\n",
            "|  3 | The Wrong Man              |   1956 |       105 | Drama, Film-Noir           | Alfred Hitchcock     | Maxwell Anderson, Angus MacPhail | Henry Fonda, Vera Miles, Anthony Quayle     | In 1953, an innocent man named Christopher Emanuel \"Manny\" Balestrero is arrested after being mistaken for an armed robber.                   | 1 win & 1 nomination                                   | https://m.media-amazon.com/images/M/MV5BOWFhOTM1NDItZTMyYi00MGZiLWFjYTktOWI3YTgzNGRjY2I3XkEyXkFqcGdeQXVyNjc1NTYyMjg@._V1_SX300.jpg |          83 |          7.4 |       28908 |           0 |          nan |       nan |                       740 |                93 | 83/100       |      nan | 9RKEUzQe30M | YouTube | tt0051207 | 7.4/10                     | 93%                | 83/100        |\n",
            "|  4 | Videodrome                 |   1983 |        87 | Horror, Sci-Fi, Thriller   | David Cronenberg     | David Cronenberg                 | James Woods, Debbie Harry, Sonja Smits      | A programmer at a TV station that specializes in adult entertainment searches for the producers of a dangerous and bizarre broadcast.         | 3 wins & 7 nominations                                 | https://m.media-amazon.com/images/M/MV5BNzdlNDk0YTMtNWJjOS00NzhlLThiOTAtZDUyOWNkNDQ2NmU3XkEyXkFqcGdeQXVyNzkwMjQ5NzM@._V1_SX300.jpg |          60 |          7.2 |       94071 |     2120439 |          nan |       nan |                       720 |                79 | 60/100       |      nan | v8BUXKcp8zE | YouTube | tt0086541 | 7.2/10                     | 79%                | 60/100        |\n"
          ]
        }
      ]
    },
    {
      "cell_type": "code",
      "source": [
        "#on supprime les /100 pour metacritc\n",
        "df['Metacritic'] = df['Metacritic'].str.replace('/100', '')"
      ],
      "metadata": {
        "id": "gR-mSjks8Eqe"
      },
      "execution_count": 24,
      "outputs": []
    },
    {
      "cell_type": "code",
      "source": [
        "#convertir colonne internet movie base en int\n"
      ],
      "metadata": {
        "id": "4nK46Xuv6oUl"
      },
      "execution_count": null,
      "outputs": []
    },
    {
      "cell_type": "code",
      "source": [
        "#diviser la colonne internet movie  base / 10\n",
        "df['Internet Movie Database'] = df['Internet Movie Database'].div(10)"
      ],
      "metadata": {
        "colab": {
          "base_uri": "https://localhost:8080/",
          "height": 434
        },
        "id": "dHOE_8zO5e8m",
        "outputId": "d193eb01-488f-4304-fbb2-d571a718b55e"
      },
      "execution_count": 23,
      "outputs": [
        {
          "output_type": "error",
          "ename": "TypeError",
          "evalue": "ignored",
          "traceback": [
            "\u001b[0;31m---------------------------------------------------------------------------\u001b[0m",
            "\u001b[0;31mTypeError\u001b[0m                                 Traceback (most recent call last)",
            "\u001b[0;32m/usr/local/lib/python3.7/dist-packages/pandas/core/ops/array_ops.py\u001b[0m in \u001b[0;36m_na_arithmetic_op\u001b[0;34m(left, right, op, is_cmp)\u001b[0m\n\u001b[1;32m    165\u001b[0m     \u001b[0;32mtry\u001b[0m\u001b[0;34m:\u001b[0m\u001b[0;34m\u001b[0m\u001b[0;34m\u001b[0m\u001b[0m\n\u001b[0;32m--> 166\u001b[0;31m         \u001b[0mresult\u001b[0m \u001b[0;34m=\u001b[0m \u001b[0mfunc\u001b[0m\u001b[0;34m(\u001b[0m\u001b[0mleft\u001b[0m\u001b[0;34m,\u001b[0m \u001b[0mright\u001b[0m\u001b[0;34m)\u001b[0m\u001b[0;34m\u001b[0m\u001b[0;34m\u001b[0m\u001b[0m\n\u001b[0m\u001b[1;32m    167\u001b[0m     \u001b[0;32mexcept\u001b[0m \u001b[0mTypeError\u001b[0m\u001b[0;34m:\u001b[0m\u001b[0;34m\u001b[0m\u001b[0;34m\u001b[0m\u001b[0m\n",
            "\u001b[0;32m/usr/local/lib/python3.7/dist-packages/pandas/core/computation/expressions.py\u001b[0m in \u001b[0;36mevaluate\u001b[0;34m(op, a, b, use_numexpr)\u001b[0m\n\u001b[1;32m    238\u001b[0m             \u001b[0;31m# error: \"None\" not callable\u001b[0m\u001b[0;34m\u001b[0m\u001b[0;34m\u001b[0m\u001b[0;34m\u001b[0m\u001b[0m\n\u001b[0;32m--> 239\u001b[0;31m             \u001b[0;32mreturn\u001b[0m \u001b[0m_evaluate\u001b[0m\u001b[0;34m(\u001b[0m\u001b[0mop\u001b[0m\u001b[0;34m,\u001b[0m \u001b[0mop_str\u001b[0m\u001b[0;34m,\u001b[0m \u001b[0ma\u001b[0m\u001b[0;34m,\u001b[0m \u001b[0mb\u001b[0m\u001b[0;34m)\u001b[0m  \u001b[0;31m# type: ignore[misc]\u001b[0m\u001b[0;34m\u001b[0m\u001b[0;34m\u001b[0m\u001b[0m\n\u001b[0m\u001b[1;32m    240\u001b[0m     \u001b[0;32mreturn\u001b[0m \u001b[0m_evaluate_standard\u001b[0m\u001b[0;34m(\u001b[0m\u001b[0mop\u001b[0m\u001b[0;34m,\u001b[0m \u001b[0mop_str\u001b[0m\u001b[0;34m,\u001b[0m \u001b[0ma\u001b[0m\u001b[0;34m,\u001b[0m \u001b[0mb\u001b[0m\u001b[0;34m)\u001b[0m\u001b[0;34m\u001b[0m\u001b[0;34m\u001b[0m\u001b[0m\n",
            "\u001b[0;32m/usr/local/lib/python3.7/dist-packages/pandas/core/computation/expressions.py\u001b[0m in \u001b[0;36m_evaluate_numexpr\u001b[0;34m(op, op_str, a, b)\u001b[0m\n\u001b[1;32m    127\u001b[0m     \u001b[0;32mif\u001b[0m \u001b[0mresult\u001b[0m \u001b[0;32mis\u001b[0m \u001b[0;32mNone\u001b[0m\u001b[0;34m:\u001b[0m\u001b[0;34m\u001b[0m\u001b[0;34m\u001b[0m\u001b[0m\n\u001b[0;32m--> 128\u001b[0;31m         \u001b[0mresult\u001b[0m \u001b[0;34m=\u001b[0m \u001b[0m_evaluate_standard\u001b[0m\u001b[0;34m(\u001b[0m\u001b[0mop\u001b[0m\u001b[0;34m,\u001b[0m \u001b[0mop_str\u001b[0m\u001b[0;34m,\u001b[0m \u001b[0ma\u001b[0m\u001b[0;34m,\u001b[0m \u001b[0mb\u001b[0m\u001b[0;34m)\u001b[0m\u001b[0;34m\u001b[0m\u001b[0;34m\u001b[0m\u001b[0m\n\u001b[0m\u001b[1;32m    129\u001b[0m \u001b[0;34m\u001b[0m\u001b[0m\n",
            "\u001b[0;32m/usr/local/lib/python3.7/dist-packages/pandas/core/computation/expressions.py\u001b[0m in \u001b[0;36m_evaluate_standard\u001b[0;34m(op, op_str, a, b)\u001b[0m\n\u001b[1;32m     68\u001b[0m         \u001b[0m_store_test_result\u001b[0m\u001b[0;34m(\u001b[0m\u001b[0;32mFalse\u001b[0m\u001b[0;34m)\u001b[0m\u001b[0;34m\u001b[0m\u001b[0;34m\u001b[0m\u001b[0m\n\u001b[0;32m---> 69\u001b[0;31m     \u001b[0;32mreturn\u001b[0m \u001b[0mop\u001b[0m\u001b[0;34m(\u001b[0m\u001b[0ma\u001b[0m\u001b[0;34m,\u001b[0m \u001b[0mb\u001b[0m\u001b[0;34m)\u001b[0m\u001b[0;34m\u001b[0m\u001b[0;34m\u001b[0m\u001b[0m\n\u001b[0m\u001b[1;32m     70\u001b[0m \u001b[0;34m\u001b[0m\u001b[0m\n",
            "\u001b[0;31mTypeError\u001b[0m: unsupported operand type(s) for /: 'str' and 'int'",
            "\nDuring handling of the above exception, another exception occurred:\n",
            "\u001b[0;31mTypeError\u001b[0m                                 Traceback (most recent call last)",
            "\u001b[0;32m<ipython-input-23-13e2dd0364f3>\u001b[0m in \u001b[0;36m<module>\u001b[0;34m\u001b[0m\n\u001b[1;32m      1\u001b[0m \u001b[0;31m#diviser la colonne internet movie  base / 10\u001b[0m\u001b[0;34m\u001b[0m\u001b[0;34m\u001b[0m\u001b[0;34m\u001b[0m\u001b[0m\n\u001b[0;32m----> 2\u001b[0;31m \u001b[0mdf\u001b[0m\u001b[0;34m[\u001b[0m\u001b[0;34m'Internet Movie Database'\u001b[0m\u001b[0;34m]\u001b[0m \u001b[0;34m=\u001b[0m \u001b[0mdf\u001b[0m\u001b[0;34m[\u001b[0m\u001b[0;34m'Internet Movie Database'\u001b[0m\u001b[0;34m]\u001b[0m\u001b[0;34m.\u001b[0m\u001b[0mdiv\u001b[0m\u001b[0;34m(\u001b[0m\u001b[0;36m10\u001b[0m\u001b[0;34m)\u001b[0m\u001b[0;34m\u001b[0m\u001b[0;34m\u001b[0m\u001b[0m\n\u001b[0m",
            "\u001b[0;32m/usr/local/lib/python3.7/dist-packages/pandas/core/ops/__init__.py\u001b[0m in \u001b[0;36mflex_wrapper\u001b[0;34m(self, other, level, fill_value, axis)\u001b[0m\n\u001b[1;32m    194\u001b[0m                 \u001b[0mself\u001b[0m \u001b[0;34m=\u001b[0m \u001b[0mself\u001b[0m\u001b[0;34m.\u001b[0m\u001b[0mfillna\u001b[0m\u001b[0;34m(\u001b[0m\u001b[0mfill_value\u001b[0m\u001b[0;34m)\u001b[0m\u001b[0;34m\u001b[0m\u001b[0;34m\u001b[0m\u001b[0m\n\u001b[1;32m    195\u001b[0m \u001b[0;34m\u001b[0m\u001b[0m\n\u001b[0;32m--> 196\u001b[0;31m             \u001b[0;32mreturn\u001b[0m \u001b[0mop\u001b[0m\u001b[0;34m(\u001b[0m\u001b[0mself\u001b[0m\u001b[0;34m,\u001b[0m \u001b[0mother\u001b[0m\u001b[0;34m)\u001b[0m\u001b[0;34m\u001b[0m\u001b[0;34m\u001b[0m\u001b[0m\n\u001b[0m\u001b[1;32m    197\u001b[0m \u001b[0;34m\u001b[0m\u001b[0m\n\u001b[1;32m    198\u001b[0m     \u001b[0mflex_wrapper\u001b[0m\u001b[0;34m.\u001b[0m\u001b[0m__name__\u001b[0m \u001b[0;34m=\u001b[0m \u001b[0mname\u001b[0m\u001b[0;34m\u001b[0m\u001b[0;34m\u001b[0m\u001b[0m\n",
            "\u001b[0;32m/usr/local/lib/python3.7/dist-packages/pandas/core/ops/common.py\u001b[0m in \u001b[0;36mnew_method\u001b[0;34m(self, other)\u001b[0m\n\u001b[1;32m     67\u001b[0m         \u001b[0mother\u001b[0m \u001b[0;34m=\u001b[0m \u001b[0mitem_from_zerodim\u001b[0m\u001b[0;34m(\u001b[0m\u001b[0mother\u001b[0m\u001b[0;34m)\u001b[0m\u001b[0;34m\u001b[0m\u001b[0;34m\u001b[0m\u001b[0m\n\u001b[1;32m     68\u001b[0m \u001b[0;34m\u001b[0m\u001b[0m\n\u001b[0;32m---> 69\u001b[0;31m         \u001b[0;32mreturn\u001b[0m \u001b[0mmethod\u001b[0m\u001b[0;34m(\u001b[0m\u001b[0mself\u001b[0m\u001b[0;34m,\u001b[0m \u001b[0mother\u001b[0m\u001b[0;34m)\u001b[0m\u001b[0;34m\u001b[0m\u001b[0;34m\u001b[0m\u001b[0m\n\u001b[0m\u001b[1;32m     70\u001b[0m \u001b[0;34m\u001b[0m\u001b[0m\n\u001b[1;32m     71\u001b[0m     \u001b[0;32mreturn\u001b[0m \u001b[0mnew_method\u001b[0m\u001b[0;34m\u001b[0m\u001b[0;34m\u001b[0m\u001b[0m\n",
            "\u001b[0;32m/usr/local/lib/python3.7/dist-packages/pandas/core/arraylike.py\u001b[0m in \u001b[0;36m__truediv__\u001b[0;34m(self, other)\u001b[0m\n\u001b[1;32m    114\u001b[0m     \u001b[0;34m@\u001b[0m\u001b[0munpack_zerodim_and_defer\u001b[0m\u001b[0;34m(\u001b[0m\u001b[0;34m\"__truediv__\"\u001b[0m\u001b[0;34m)\u001b[0m\u001b[0;34m\u001b[0m\u001b[0;34m\u001b[0m\u001b[0m\n\u001b[1;32m    115\u001b[0m     \u001b[0;32mdef\u001b[0m \u001b[0m__truediv__\u001b[0m\u001b[0;34m(\u001b[0m\u001b[0mself\u001b[0m\u001b[0;34m,\u001b[0m \u001b[0mother\u001b[0m\u001b[0;34m)\u001b[0m\u001b[0;34m:\u001b[0m\u001b[0;34m\u001b[0m\u001b[0;34m\u001b[0m\u001b[0m\n\u001b[0;32m--> 116\u001b[0;31m         \u001b[0;32mreturn\u001b[0m \u001b[0mself\u001b[0m\u001b[0;34m.\u001b[0m\u001b[0m_arith_method\u001b[0m\u001b[0;34m(\u001b[0m\u001b[0mother\u001b[0m\u001b[0;34m,\u001b[0m \u001b[0moperator\u001b[0m\u001b[0;34m.\u001b[0m\u001b[0mtruediv\u001b[0m\u001b[0;34m)\u001b[0m\u001b[0;34m\u001b[0m\u001b[0;34m\u001b[0m\u001b[0m\n\u001b[0m\u001b[1;32m    117\u001b[0m \u001b[0;34m\u001b[0m\u001b[0m\n\u001b[1;32m    118\u001b[0m     \u001b[0;34m@\u001b[0m\u001b[0munpack_zerodim_and_defer\u001b[0m\u001b[0;34m(\u001b[0m\u001b[0;34m\"__rtruediv__\"\u001b[0m\u001b[0;34m)\u001b[0m\u001b[0;34m\u001b[0m\u001b[0;34m\u001b[0m\u001b[0m\n",
            "\u001b[0;32m/usr/local/lib/python3.7/dist-packages/pandas/core/series.py\u001b[0m in \u001b[0;36m_arith_method\u001b[0;34m(self, other, op)\u001b[0m\n\u001b[1;32m   5524\u001b[0m \u001b[0;34m\u001b[0m\u001b[0m\n\u001b[1;32m   5525\u001b[0m         \u001b[0;32mwith\u001b[0m \u001b[0mnp\u001b[0m\u001b[0;34m.\u001b[0m\u001b[0merrstate\u001b[0m\u001b[0;34m(\u001b[0m\u001b[0mall\u001b[0m\u001b[0;34m=\u001b[0m\u001b[0;34m\"ignore\"\u001b[0m\u001b[0;34m)\u001b[0m\u001b[0;34m:\u001b[0m\u001b[0;34m\u001b[0m\u001b[0;34m\u001b[0m\u001b[0m\n\u001b[0;32m-> 5526\u001b[0;31m             \u001b[0mresult\u001b[0m \u001b[0;34m=\u001b[0m \u001b[0mops\u001b[0m\u001b[0;34m.\u001b[0m\u001b[0marithmetic_op\u001b[0m\u001b[0;34m(\u001b[0m\u001b[0mlvalues\u001b[0m\u001b[0;34m,\u001b[0m \u001b[0mrvalues\u001b[0m\u001b[0;34m,\u001b[0m \u001b[0mop\u001b[0m\u001b[0;34m)\u001b[0m\u001b[0;34m\u001b[0m\u001b[0;34m\u001b[0m\u001b[0m\n\u001b[0m\u001b[1;32m   5527\u001b[0m \u001b[0;34m\u001b[0m\u001b[0m\n\u001b[1;32m   5528\u001b[0m         \u001b[0;32mreturn\u001b[0m \u001b[0mself\u001b[0m\u001b[0;34m.\u001b[0m\u001b[0m_construct_result\u001b[0m\u001b[0;34m(\u001b[0m\u001b[0mresult\u001b[0m\u001b[0;34m,\u001b[0m \u001b[0mname\u001b[0m\u001b[0;34m=\u001b[0m\u001b[0mres_name\u001b[0m\u001b[0;34m)\u001b[0m\u001b[0;34m\u001b[0m\u001b[0;34m\u001b[0m\u001b[0m\n",
            "\u001b[0;32m/usr/local/lib/python3.7/dist-packages/pandas/core/ops/array_ops.py\u001b[0m in \u001b[0;36marithmetic_op\u001b[0;34m(left, right, op)\u001b[0m\n\u001b[1;32m    222\u001b[0m         \u001b[0m_bool_arith_check\u001b[0m\u001b[0;34m(\u001b[0m\u001b[0mop\u001b[0m\u001b[0;34m,\u001b[0m \u001b[0mleft\u001b[0m\u001b[0;34m,\u001b[0m \u001b[0mright\u001b[0m\u001b[0;34m)\u001b[0m\u001b[0;34m\u001b[0m\u001b[0;34m\u001b[0m\u001b[0m\n\u001b[1;32m    223\u001b[0m \u001b[0;34m\u001b[0m\u001b[0m\n\u001b[0;32m--> 224\u001b[0;31m         \u001b[0mres_values\u001b[0m \u001b[0;34m=\u001b[0m \u001b[0m_na_arithmetic_op\u001b[0m\u001b[0;34m(\u001b[0m\u001b[0mleft\u001b[0m\u001b[0;34m,\u001b[0m \u001b[0mright\u001b[0m\u001b[0;34m,\u001b[0m \u001b[0mop\u001b[0m\u001b[0;34m)\u001b[0m\u001b[0;34m\u001b[0m\u001b[0;34m\u001b[0m\u001b[0m\n\u001b[0m\u001b[1;32m    225\u001b[0m \u001b[0;34m\u001b[0m\u001b[0m\n\u001b[1;32m    226\u001b[0m     \u001b[0;32mreturn\u001b[0m \u001b[0mres_values\u001b[0m\u001b[0;34m\u001b[0m\u001b[0;34m\u001b[0m\u001b[0m\n",
            "\u001b[0;32m/usr/local/lib/python3.7/dist-packages/pandas/core/ops/array_ops.py\u001b[0m in \u001b[0;36m_na_arithmetic_op\u001b[0;34m(left, right, op, is_cmp)\u001b[0m\n\u001b[1;32m    171\u001b[0m             \u001b[0;31m# Don't do this for comparisons, as that will handle complex numbers\u001b[0m\u001b[0;34m\u001b[0m\u001b[0;34m\u001b[0m\u001b[0;34m\u001b[0m\u001b[0m\n\u001b[1;32m    172\u001b[0m             \u001b[0;31m#  incorrectly, see GH#32047\u001b[0m\u001b[0;34m\u001b[0m\u001b[0;34m\u001b[0m\u001b[0;34m\u001b[0m\u001b[0m\n\u001b[0;32m--> 173\u001b[0;31m             \u001b[0mresult\u001b[0m \u001b[0;34m=\u001b[0m \u001b[0m_masked_arith_op\u001b[0m\u001b[0;34m(\u001b[0m\u001b[0mleft\u001b[0m\u001b[0;34m,\u001b[0m \u001b[0mright\u001b[0m\u001b[0;34m,\u001b[0m \u001b[0mop\u001b[0m\u001b[0;34m)\u001b[0m\u001b[0;34m\u001b[0m\u001b[0;34m\u001b[0m\u001b[0m\n\u001b[0m\u001b[1;32m    174\u001b[0m         \u001b[0;32melse\u001b[0m\u001b[0;34m:\u001b[0m\u001b[0;34m\u001b[0m\u001b[0;34m\u001b[0m\u001b[0m\n\u001b[1;32m    175\u001b[0m             \u001b[0;32mraise\u001b[0m\u001b[0;34m\u001b[0m\u001b[0;34m\u001b[0m\u001b[0m\n",
            "\u001b[0;32m/usr/local/lib/python3.7/dist-packages/pandas/core/ops/array_ops.py\u001b[0m in \u001b[0;36m_masked_arith_op\u001b[0;34m(x, y, op)\u001b[0m\n\u001b[1;32m    129\u001b[0m \u001b[0;34m\u001b[0m\u001b[0m\n\u001b[1;32m    130\u001b[0m         \u001b[0;32mif\u001b[0m \u001b[0mmask\u001b[0m\u001b[0;34m.\u001b[0m\u001b[0many\u001b[0m\u001b[0;34m(\u001b[0m\u001b[0;34m)\u001b[0m\u001b[0;34m:\u001b[0m\u001b[0;34m\u001b[0m\u001b[0;34m\u001b[0m\u001b[0m\n\u001b[0;32m--> 131\u001b[0;31m             \u001b[0mresult\u001b[0m\u001b[0;34m[\u001b[0m\u001b[0mmask\u001b[0m\u001b[0;34m]\u001b[0m \u001b[0;34m=\u001b[0m \u001b[0mop\u001b[0m\u001b[0;34m(\u001b[0m\u001b[0mxrav\u001b[0m\u001b[0;34m[\u001b[0m\u001b[0mmask\u001b[0m\u001b[0;34m]\u001b[0m\u001b[0;34m,\u001b[0m \u001b[0my\u001b[0m\u001b[0;34m)\u001b[0m\u001b[0;34m\u001b[0m\u001b[0;34m\u001b[0m\u001b[0m\n\u001b[0m\u001b[1;32m    132\u001b[0m \u001b[0;34m\u001b[0m\u001b[0m\n\u001b[1;32m    133\u001b[0m     \u001b[0mnp\u001b[0m\u001b[0;34m.\u001b[0m\u001b[0mputmask\u001b[0m\u001b[0;34m(\u001b[0m\u001b[0mresult\u001b[0m\u001b[0;34m,\u001b[0m \u001b[0;34m~\u001b[0m\u001b[0mmask\u001b[0m\u001b[0;34m,\u001b[0m \u001b[0mnp\u001b[0m\u001b[0;34m.\u001b[0m\u001b[0mnan\u001b[0m\u001b[0;34m)\u001b[0m\u001b[0;34m\u001b[0m\u001b[0;34m\u001b[0m\u001b[0m\n",
            "\u001b[0;31mTypeError\u001b[0m: unsupported operand type(s) for /: 'str' and 'int'"
          ]
        }
      ]
    }
  ]
}